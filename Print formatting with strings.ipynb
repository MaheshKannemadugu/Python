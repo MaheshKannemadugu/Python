{
 "cells": [
  {
   "cell_type": "code",
   "execution_count": 1,
   "id": "a05a85f5-75de-4e09-ae11-850ef1ebbcce",
   "metadata": {},
   "outputs": [
    {
     "name": "stdout",
     "output_type": "stream",
     "text": [
      "this is a string Inserted\n"
     ]
    }
   ],
   "source": [
    "print('this is a string {}'. format('Inserted'))"
   ]
  },
  {
   "cell_type": "code",
   "execution_count": 3,
   "id": "db31f55c-1d97-47f6-a222-391d563630cb",
   "metadata": {},
   "outputs": [
    {
     "name": "stdout",
     "output_type": "stream",
     "text": [
      "thefoxbluebrown\n"
     ]
    }
   ],
   "source": [
    "print('the{0}{2}{1}'.format('fox','brown','blue'))"
   ]
  },
  {
   "cell_type": "code",
   "execution_count": 4,
   "id": "c25fb734-7a2a-4023-92db-562c59be510f",
   "metadata": {},
   "outputs": [
    {
     "name": "stdout",
     "output_type": "stream",
     "text": [
      "The bluebrownfox\n"
     ]
    }
   ],
   "source": [
    "print('The {q}{b}{f}'.format(f='fox',b='brown',q='blue'))"
   ]
  },
  {
   "cell_type": "code",
   "execution_count": null,
   "id": "c27ec534-44f7-4c08-8d73-fa0c51f40767",
   "metadata": {},
   "outputs": [],
   "source": [
    "print('the result was {r:1:5f}'.format(r=result))(f'{name}is {age}yearsold')\n",
    "                                    "
   ]
  },
  {
   "cell_type": "code",
   "execution_count": 10,
   "id": "5876b406-a2e7-453b-8626-f9b904ddd06e",
   "metadata": {},
   "outputs": [
    {
     "name": "stdout",
     "output_type": "stream",
     "text": [
      "Collecting sqlNote: you may need to restart the kernel to use updated packages.\n",
      "\n",
      "  Downloading sql-2022.4.0.tar.gz (4.2 kB)\n",
      "  Preparing metadata (setup.py): started\n",
      "  Preparing metadata (setup.py): finished with status 'done'\n",
      "Building wheels for collected packages: sql\n",
      "  Building wheel for sql (setup.py): started\n",
      "  Building wheel for sql (setup.py): finished with status 'done'\n",
      "  Created wheel for sql: filename=sql-2022.4.0-py3-none-any.whl size=4335 sha256=82fe206ec6a6d78614cce957690beb103d7764ee48689e1d984b18535e504946\n",
      "  Stored in directory: c:\\users\\d949496\\appdata\\local\\pip\\cache\\wheels\\79\\76\\71\\e469c317928700078d899ef20e051dc7080650b63937324e31\n",
      "Successfully built sql\n",
      "Installing collected packages: sql\n",
      "Successfully installed sql-2022.4.0\n"
     ]
    }
   ],
   "source": [
    "pip install sql"
   ]
  },
  {
   "cell_type": "code",
   "execution_count": null,
   "id": "7c54f325-3ab3-4a24-980f-24d596253dd8",
   "metadata": {},
   "outputs": [],
   "source": []
  }
 ],
 "metadata": {
  "kernelspec": {
   "display_name": "Python 3 (ipykernel)",
   "language": "python",
   "name": "python3"
  },
  "language_info": {
   "codemirror_mode": {
    "name": "ipython",
    "version": 3
   },
   "file_extension": ".py",
   "mimetype": "text/x-python",
   "name": "python",
   "nbconvert_exporter": "python",
   "pygments_lexer": "ipython3",
   "version": "3.12.7"
  }
 },
 "nbformat": 4,
 "nbformat_minor": 5
}
