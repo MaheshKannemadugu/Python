{
 "cells": [
  {
   "cell_type": "markdown",
   "id": "c7f482a0-13b0-4a1b-85cb-1c872eda7600",
   "metadata": {},
   "source": [
    "# Generator\n",
    "\n",
    "### Generator is a function that produces sequence of values lazily, one at a time , rather than storing them all in memory at once like a list.\n",
    "\n",
    "#### Advantages of Generators\n",
    "#### Memory Efficiency: Generators only yield one value at a time, which makes them memory-efficient compared to lists.\n",
    "#### Lazy Evaluation: Values are computed only when needed, meaning a generator can represent an infinite sequence.\n",
    "#### Readable Code: Generators often lead to cleaner, more readable code for tasks involving sequences or streams of data."
   ]
  },
  {
   "cell_type": "code",
   "execution_count": 1,
   "id": "ac63c086-d3ec-4652-8bf7-c7db1c3e8da8",
   "metadata": {},
   "outputs": [
    {
     "name": "stdout",
     "output_type": "stream",
     "text": [
      "1\n"
     ]
    }
   ],
   "source": [
    "def my_gen():\n",
    "    yield 1\n",
    "    yield 2\n",
    "    yield 3\n",
    "val=my_gen()\n",
    "\n",
    "print(next(val))"
   ]
  },
  {
   "cell_type": "code",
   "execution_count": 18,
   "id": "da9bd64b-68e2-44cc-88b0-a8fb098dc498",
   "metadata": {},
   "outputs": [
    {
     "name": "stdout",
     "output_type": "stream",
     "text": [
      "1\n",
      "4\n",
      "9\n",
      "16\n",
      "25\n",
      "36\n",
      "49\n",
      "64\n",
      "81\n",
      "100\n"
     ]
    }
   ],
   "source": [
    "def squares(n):\n",
    "    n=1\n",
    "    while n<=10:\n",
    "        sq =n*n\n",
    "        yield sq\n",
    "        n+=1\n",
    "value=squares(1)\n",
    "for i in value:\n",
    "    print(i)\n",
    "        \n",
    "    "
   ]
  },
  {
   "cell_type": "code",
   "execution_count": null,
   "id": "5e94bbc0-c54e-4d68-ae58-f8b4404c97bf",
   "metadata": {},
   "outputs": [],
   "source": []
  }
 ],
 "metadata": {
  "kernelspec": {
   "display_name": "Python 3 (ipykernel)",
   "language": "python",
   "name": "python3"
  },
  "language_info": {
   "codemirror_mode": {
    "name": "ipython",
    "version": 3
   },
   "file_extension": ".py",
   "mimetype": "text/x-python",
   "name": "python",
   "nbconvert_exporter": "python",
   "pygments_lexer": "ipython3",
   "version": "3.12.7"
  }
 },
 "nbformat": 4,
 "nbformat_minor": 5
}
