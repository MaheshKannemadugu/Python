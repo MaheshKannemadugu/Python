{
 "cells": [
  {
   "cell_type": "code",
   "execution_count": 17,
   "id": "78294618-a22d-496f-b552-4be932e0b170",
   "metadata": {},
   "outputs": [],
   "source": [
    "from calendar import TextCalendar"
   ]
  },
  {
   "cell_type": "code",
   "execution_count": 19,
   "id": "bcddbbb3-2ab0-4f65-b1dd-427bfca65d45",
   "metadata": {},
   "outputs": [
    {
     "name": "stdin",
     "output_type": "stream",
     "text": [
      "Enter Year 2025\n"
     ]
    },
    {
     "name": "stdout",
     "output_type": "stream",
     "text": [
      "                                    2025\n",
      "\n",
      "      January                     February                     March\n",
      "Mo Tu We Th Fr Sa Su        Mo Tu We Th Fr Sa Su        Mo Tu We Th Fr Sa Su\n",
      "       1  2  3  4  5                        1  2                        1  2\n",
      " 6  7  8  9 10 11 12         3  4  5  6  7  8  9         3  4  5  6  7  8  9\n",
      "13 14 15 16 17 18 19        10 11 12 13 14 15 16        10 11 12 13 14 15 16\n",
      "20 21 22 23 24 25 26        17 18 19 20 21 22 23        17 18 19 20 21 22 23\n",
      "27 28 29 30 31              24 25 26 27 28              24 25 26 27 28 29 30\n",
      "                                                        31\n",
      "\n",
      "       April                        May                         June\n",
      "Mo Tu We Th Fr Sa Su        Mo Tu We Th Fr Sa Su        Mo Tu We Th Fr Sa Su\n",
      "    1  2  3  4  5  6                  1  2  3  4                           1\n",
      " 7  8  9 10 11 12 13         5  6  7  8  9 10 11         2  3  4  5  6  7  8\n",
      "14 15 16 17 18 19 20        12 13 14 15 16 17 18         9 10 11 12 13 14 15\n",
      "21 22 23 24 25 26 27        19 20 21 22 23 24 25        16 17 18 19 20 21 22\n",
      "28 29 30                    26 27 28 29 30 31           23 24 25 26 27 28 29\n",
      "                                                        30\n",
      "\n",
      "        July                       August                    September\n",
      "Mo Tu We Th Fr Sa Su        Mo Tu We Th Fr Sa Su        Mo Tu We Th Fr Sa Su\n",
      "    1  2  3  4  5  6                     1  2  3         1  2  3  4  5  6  7\n",
      " 7  8  9 10 11 12 13         4  5  6  7  8  9 10         8  9 10 11 12 13 14\n",
      "14 15 16 17 18 19 20        11 12 13 14 15 16 17        15 16 17 18 19 20 21\n",
      "21 22 23 24 25 26 27        18 19 20 21 22 23 24        22 23 24 25 26 27 28\n",
      "28 29 30 31                 25 26 27 28 29 30 31        29 30\n",
      "\n",
      "      October                     November                    December\n",
      "Mo Tu We Th Fr Sa Su        Mo Tu We Th Fr Sa Su        Mo Tu We Th Fr Sa Su\n",
      "       1  2  3  4  5                        1  2         1  2  3  4  5  6  7\n",
      " 6  7  8  9 10 11 12         3  4  5  6  7  8  9         8  9 10 11 12 13 14\n",
      "13 14 15 16 17 18 19        10 11 12 13 14 15 16        15 16 17 18 19 20 21\n",
      "20 21 22 23 24 25 26        17 18 19 20 21 22 23        22 23 24 25 26 27 28\n",
      "27 28 29 30 31              24 25 26 27 28 29 30        29 30 31\n",
      "\n"
     ]
    }
   ],
   "source": [
    "year=int(input(\"Enter Year\"))\n",
    "cal=TextCalendar()\n",
    "print(cal.formatyear(year,2,1,8,3))  # formatyear(year, width=2, lines=1, c=6, m=3)"
   ]
  },
  {
   "cell_type": "code",
   "execution_count": null,
   "id": "08429d68-76cd-4344-8500-75fc91430b3a",
   "metadata": {},
   "outputs": [],
   "source": []
  }
 ],
 "metadata": {
  "kernelspec": {
   "display_name": "Python 3 (ipykernel)",
   "language": "python",
   "name": "python3"
  },
  "language_info": {
   "codemirror_mode": {
    "name": "ipython",
    "version": 3
   },
   "file_extension": ".py",
   "mimetype": "text/x-python",
   "name": "python",
   "nbconvert_exporter": "python",
   "pygments_lexer": "ipython3",
   "version": "3.12.7"
  }
 },
 "nbformat": 4,
 "nbformat_minor": 5
}
