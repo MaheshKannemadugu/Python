{
 "cells": [
  {
   "cell_type": "markdown",
   "id": "00e1d216-580b-48ea-9522-a73e1b8584a2",
   "metadata": {},
   "source": [
    "# if Statement"
   ]
  },
  {
   "cell_type": "code",
   "execution_count": 12,
   "id": "f18cb592-ab1b-46d9-97ba-fd756b5c473c",
   "metadata": {},
   "outputs": [
    {
     "name": "stdin",
     "output_type": "stream",
     "text": [
      "Enter the age 18\n"
     ]
    },
    {
     "name": "stdout",
     "output_type": "stream",
     "text": [
      "Eligibe for vote\n"
     ]
    }
   ],
   "source": [
    "x=int(input(\"Enter the age\"))\n",
    "if x>=18:\n",
    "    print(\"Eligibe for vote\")\n",
    "else:\n",
    "    print(\"Not Eligible for vote\")\n"
   ]
  },
  {
   "cell_type": "code",
   "execution_count": 17,
   "id": "d10ba58a-97cc-4db8-a661-a1e4b99aae12",
   "metadata": {},
   "outputs": [
    {
     "name": "stdin",
     "output_type": "stream",
     "text": [
      "Enter The year 2023\n"
     ]
    },
    {
     "name": "stdout",
     "output_type": "stream",
     "text": [
      "Not leap year\n"
     ]
    }
   ],
   "source": [
    "year=int(input(\"Enter The year\"))\n",
    "if year%4==0:\n",
    "    print(\"This year is leap year\")\n",
    "elif year%100==0:\n",
    "    print(\"This year is leap\")\n",
    "elif year%400==0:\n",
    "    print(\"This year is leap year\")\n",
    "else:\n",
    "    print(\"Not leap year\")\n"
   ]
  },
  {
   "cell_type": "markdown",
   "id": "b2555bc0-c8ca-4477-b554-13c3f9cfb1b1",
   "metadata": {},
   "source": [
    "# For Statements"
   ]
  },
  {
   "cell_type": "code",
   "execution_count": 36,
   "id": "addc826e-2165-4ab7-aae2-6d2fa101370f",
   "metadata": {},
   "outputs": [],
   "source": [
    "alphabets=['ab','b','cc','d','e','fd']"
   ]
  },
  {
   "cell_type": "code",
   "execution_count": 37,
   "id": "720eed12-322e-4540-9ea5-fbf30c9bbb1e",
   "metadata": {},
   "outputs": [
    {
     "data": {
      "text/plain": [
       "['ab', 'b', 'cc', 'd', 'e', 'fd']"
      ]
     },
     "execution_count": 37,
     "metadata": {},
     "output_type": "execute_result"
    }
   ],
   "source": [
    "alphabets"
   ]
  },
  {
   "cell_type": "code",
   "execution_count": 38,
   "id": "aab708ed-3b02-47bf-9860-9226075b726d",
   "metadata": {},
   "outputs": [
    {
     "name": "stdout",
     "output_type": "stream",
     "text": [
      "ab 2\n",
      "b 1\n",
      "cc 2\n",
      "d 1\n",
      "e 1\n",
      "fd 2\n"
     ]
    }
   ],
   "source": [
    "for letters in alphabets:\n",
    "    print(letters,len(letters))"
   ]
  },
  {
   "cell_type": "code",
   "execution_count": 40,
   "id": "67577534-af8b-4a50-ba52-6cf6ab57e137",
   "metadata": {},
   "outputs": [
    {
     "data": {
      "text/plain": [
       "[10, 22, 12, 13, 5574, 65, 82, 48, 23]"
      ]
     },
     "execution_count": 40,
     "metadata": {},
     "output_type": "execute_result"
    }
   ],
   "source": [
    "numbers=[10,22,12,13,5574,65,82,48,23]\n",
    "numbers"
   ]
  },
  {
   "cell_type": "code",
   "execution_count": 47,
   "id": "22f7619a-2fa2-4de1-8f37-8b11a97dbfa4",
   "metadata": {},
   "outputs": [
    {
     "name": "stdout",
     "output_type": "stream",
     "text": [
      "I am even 10\n",
      "I am even 22\n",
      "I am even 12\n",
      "I am Odd number 13\n",
      "I am even 5574\n",
      "I am Odd number 65\n",
      "I am even 82\n",
      "I am even 48\n",
      "I am Odd number 23\n"
     ]
    }
   ],
   "source": [
    "for even in numbers:\n",
    "    if even%2==0:\n",
    "        print(f'I am even {even}')\n",
    "    else:\n",
    "        print(f'I am Odd number {even}')"
   ]
  },
  {
   "cell_type": "markdown",
   "id": "0f393db2-bf1f-4df2-8b7d-7152f7bed622",
   "metadata": {},
   "source": [
    "# for loop can be used with a tuple:"
   ]
  },
  {
   "cell_type": "code",
   "execution_count": 48,
   "id": "5ad535ac-ce58-4ba0-96c1-4f7e1437a73e",
   "metadata": {},
   "outputs": [
    {
     "name": "stdout",
     "output_type": "stream",
     "text": [
      "11\n",
      "25\n",
      "20\n",
      "76\n"
     ]
    }
   ],
   "source": [
    "t=(11,25,20,76)\n",
    "for tup in t:\n",
    "    print(tup)"
   ]
  },
  {
   "cell_type": "markdown",
   "id": "6c817936-bdb8-4e7e-998c-e20bfeafe08c",
   "metadata": {},
   "source": [
    "# tuple unpacking."
   ]
  },
  {
   "cell_type": "code",
   "execution_count": 49,
   "id": "6558014c-51bd-4b51-9797-f0abc5da1dcd",
   "metadata": {},
   "outputs": [
    {
     "data": {
      "text/plain": [
       "[(1, 2), (3, 4), (5, 6), (7, 8), (13, 14)]"
      ]
     },
     "execution_count": 49,
     "metadata": {},
     "output_type": "execute_result"
    }
   ],
   "source": [
    "tupl=[(1,2),(3,4),(5,6),(7,8),(13,14)]\n",
    "tupl"
   ]
  },
  {
   "cell_type": "code",
   "execution_count": 50,
   "id": "be4e0912-e418-4b7b-a538-09844c2bccc7",
   "metadata": {},
   "outputs": [
    {
     "name": "stdout",
     "output_type": "stream",
     "text": [
      "(1, 2)\n",
      "(3, 4)\n",
      "(5, 6)\n",
      "(7, 8)\n",
      "(13, 14)\n"
     ]
    }
   ],
   "source": [
    "for tup1 in tupl:\n",
    "    print(tup1)"
   ]
  },
  {
   "cell_type": "code",
   "execution_count": 55,
   "id": "b981a637-2821-42cb-990b-3aa6748456f1",
   "metadata": {},
   "outputs": [
    {
     "name": "stdout",
     "output_type": "stream",
     "text": [
      "2\n",
      "4\n",
      "6\n",
      "8\n",
      "14\n"
     ]
    }
   ],
   "source": [
    "for (l1,l2) in tupl:  ## Now with unpacking!\n",
    "    print(l2)"
   ]
  },
  {
   "cell_type": "code",
   "execution_count": 69,
   "id": "a96e9d90-d5c1-4d0c-bb95-c0253da71b46",
   "metadata": {},
   "outputs": [
    {
     "data": {
      "text/plain": [
       "{'madhu': 'Customer Of Airtel',\n",
       " 'mahima': 'Customer of Jio',\n",
       " 'David': 'Customer Of VI',\n",
       " 'Ramesh': 'Customer Of BASNL'}"
      ]
     },
     "execution_count": 69,
     "metadata": {},
     "output_type": "execute_result"
    }
   ],
   "source": [
    "# Create a sample collection\n",
    "\n",
    "users={'madhu':'Customer Of Airtel','mahima':'Customer of Jio','David':'Customer Of VI','Ramesh':'Customer Of BASNL'}\n",
    "users"
   ]
  },
  {
   "cell_type": "code",
   "execution_count": 74,
   "id": "9624fb9e-0dda-481c-b6b9-ac194346ef8e",
   "metadata": {},
   "outputs": [],
   "source": [
    "#  Iterate over a copy\n",
    "\n",
    "for user,company in users.copy().items():\n",
    "    if company=='jio':\n",
    "        del users[user]\n",
    "active_users={} \n",
    "for user,company in users.items():\n",
    "    if company=='BSNL':\n",
    "        active_users[user]=company\n",
    "        \n"
   ]
  },
  {
   "cell_type": "code",
   "execution_count": 78,
   "id": "45d870be-4304-4ab9-8507-4c29eb4e755c",
   "metadata": {},
   "outputs": [
    {
     "name": "stdout",
     "output_type": "stream",
     "text": [
      "Ramesh Customer Of BASNL\n"
     ]
    }
   ],
   "source": [
    "print(user,company)"
   ]
  }
 ],
 "metadata": {
  "kernelspec": {
   "display_name": "Python 3 (ipykernel)",
   "language": "python",
   "name": "python3"
  },
  "language_info": {
   "codemirror_mode": {
    "name": "ipython",
    "version": 3
   },
   "file_extension": ".py",
   "mimetype": "text/x-python",
   "name": "python",
   "nbconvert_exporter": "python",
   "pygments_lexer": "ipython3",
   "version": "3.12.7"
  }
 },
 "nbformat": 4,
 "nbformat_minor": 5
}
