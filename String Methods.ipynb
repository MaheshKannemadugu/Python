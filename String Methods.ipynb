{
 "cells": [
  {
   "cell_type": "code",
   "execution_count": 4,
   "id": "d7213bfb-cb9b-42fa-ac7b-eb492f04b959",
   "metadata": {},
   "outputs": [
    {
     "name": "stdout",
     "output_type": "stream",
     "text": [
      "Hi python\n"
     ]
    }
   ],
   "source": [
    "file=\"hi python\"\n",
    "print(file.capitalize())  # converts first character to upper case"
   ]
  },
  {
   "cell_type": "code",
   "execution_count": 37,
   "id": "d8c0a5f4-4452-4e89-869c-3514474df140",
   "metadata": {},
   "outputs": [
    {
     "name": "stdout",
     "output_type": "stream",
     "text": [
      "hinumpyt,numpy\n"
     ]
    }
   ],
   "source": [
    "files='HINUMPYT,NUMPY'\n",
    "print(files.casefold()) # converts whole code to lowercase"
   ]
  },
  {
   "cell_type": "code",
   "execution_count": 35,
   "id": "d5af3db2-23c3-4d62-a6d9-f42750998dda",
   "metadata": {},
   "outputs": [
    {
     "name": "stdout",
     "output_type": "stream",
     "text": [
      "-HINUMPYT,Numpy\n"
     ]
    }
   ],
   "source": [
    "print(files.center(15,'-'))"
   ]
  },
  {
   "cell_type": "code",
   "execution_count": 39,
   "id": "f1364485-8c3f-422d-b8b1-89ecf784e25e",
   "metadata": {},
   "outputs": [
    {
     "name": "stdout",
     "output_type": "stream",
     "text": [
      "2\n"
     ]
    }
   ],
   "source": [
    "print(files.count(\"NUMPY\")) "
   ]
  },
  {
   "cell_type": "code",
   "execution_count": 47,
   "id": "2215e526-88d5-47de-97fa-c866532a9f2d",
   "metadata": {},
   "outputs": [
    {
     "name": "stdout",
     "output_type": "stream",
     "text": [
      "b'HINUMPYT,NUMPY'\n"
     ]
    }
   ],
   "source": [
    "print(files.encode())"
   ]
  },
  {
   "cell_type": "code",
   "execution_count": 48,
   "id": "f8e34ee8-f1d5-4e12-ab19-a44cd20276dc",
   "metadata": {},
   "outputs": [
    {
     "name": "stdout",
     "output_type": "stream",
     "text": [
      "True\n"
     ]
    }
   ],
   "source": [
    "print(files.endswith('NUMPY'))"
   ]
  },
  {
   "cell_type": "code",
   "execution_count": 49,
   "id": "80818e12-08fa-4c87-8803-cc14eb179456",
   "metadata": {},
   "outputs": [
    {
     "name": "stdout",
     "output_type": "stream",
     "text": [
      "False\n"
     ]
    }
   ],
   "source": [
    "print(files.endswith('Numpy'))"
   ]
  },
  {
   "cell_type": "code",
   "execution_count": 55,
   "id": "474b20bc-f755-4f0a-b028-ea099d419740",
   "metadata": {},
   "outputs": [
    {
     "name": "stdout",
     "output_type": "stream",
     "text": [
      "HINUMPYT,NUMPY\n"
     ]
    }
   ],
   "source": [
    "print(files.expandtabs(2))"
   ]
  },
  {
   "cell_type": "code",
   "execution_count": 63,
   "id": "b5280cca-e194-4084-98e5-3d115d9c8cd5",
   "metadata": {},
   "outputs": [
    {
     "name": "stdout",
     "output_type": "stream",
     "text": [
      "3\n"
     ]
    }
   ],
   "source": [
    "print(file.find('python'))"
   ]
  },
  {
   "cell_type": "code",
   "execution_count": 65,
   "id": "15e12a88-267d-4063-babc-76dab14b6c6b",
   "metadata": {},
   "outputs": [
    {
     "name": "stdout",
     "output_type": "stream",
     "text": [
      "mahesh kannemadugu \n"
     ]
    }
   ],
   "source": [
    "t=\"mahesh {} \"\n",
    "print(t.format('kannemadugu'))"
   ]
  },
  {
   "cell_type": "code",
   "execution_count": 67,
   "id": "db9147f1-8ffe-4840-a972-2365d842b4d5",
   "metadata": {},
   "outputs": [
    {
     "name": "stdout",
     "output_type": "stream",
     "text": [
      "Hello World\n"
     ]
    }
   ],
   "source": [
    "t=\"Hello {name}\"\n",
    "print(t.format_map({\"name\":\"World\"}))"
   ]
  },
  {
   "cell_type": "code",
   "execution_count": 80,
   "id": "b118a653-12be-4dc0-a2ab-0765aafe4482",
   "metadata": {},
   "outputs": [
    {
     "name": "stdout",
     "output_type": "stream",
     "text": [
      "1\n"
     ]
    }
   ],
   "source": [
    "t=\"DataStrctures123\"\n",
    "print(t.index('a'))"
   ]
  },
  {
   "cell_type": "code",
   "execution_count": 94,
   "id": "4483e3f3-04ba-4e2a-85d0-1c616ec08fe0",
   "metadata": {},
   "outputs": [
    {
     "name": "stdout",
     "output_type": "stream",
     "text": [
      "True\n"
     ]
    }
   ],
   "source": [
    "ta='Hello12345'\n",
    "print(ta.isalnum())"
   ]
  },
  {
   "cell_type": "code",
   "execution_count": 98,
   "id": "387c63da-b90f-4876-b2eb-4d00573247f6",
   "metadata": {},
   "outputs": [
    {
     "name": "stdout",
     "output_type": "stream",
     "text": [
      "True\n"
     ]
    }
   ],
   "source": [
    "teams='txt'\n",
    "print(teams.isalpha()) #Returns True if all characters in the string are in the alphabet"
   ]
  },
  {
   "cell_type": "code",
   "execution_count": 99,
   "id": "3a71c74e-b51d-4e85-b0d5-105661118621",
   "metadata": {},
   "outputs": [
    {
     "name": "stdout",
     "output_type": "stream",
     "text": [
      "True\n"
     ]
    }
   ],
   "source": [
    "print(teams.isascii()) #Returns True if all characters in the string are ascii characters"
   ]
  },
  {
   "cell_type": "code",
   "execution_count": 101,
   "id": "709dac8b-e37d-499a-a87e-8489766f302a",
   "metadata": {},
   "outputs": [
    {
     "name": "stdout",
     "output_type": "stream",
     "text": [
      "False\n"
     ]
    }
   ],
   "source": [
    "print(teams.isdecimal()) # Returns True if all characters in the string are decimals"
   ]
  },
  {
   "cell_type": "code",
   "execution_count": 107,
   "id": "47837220-5f42-46d9-b0b3-c5c25b1076f0",
   "metadata": {},
   "outputs": [
    {
     "name": "stdout",
     "output_type": "stream",
     "text": [
      "True\n"
     ]
    }
   ],
   "source": [
    "num=12345\n",
    "print(str(num).isdecimal())   # convert int into str "
   ]
  },
  {
   "cell_type": "code",
   "execution_count": 113,
   "id": "15b39b0d-0902-41d5-b724-346f40b999c7",
   "metadata": {},
   "outputs": [
    {
     "name": "stdout",
     "output_type": "stream",
     "text": [
      "True\n"
     ]
    }
   ],
   "source": [
    "nump=12345\n",
    "print(str(nump).isdigit()) #  Returns True if all characters in the string are digits"
   ]
  },
  {
   "cell_type": "code",
   "execution_count": 114,
   "id": "83f75800-4e42-4999-93d9-4501fa95b964",
   "metadata": {},
   "outputs": [
    {
     "name": "stdout",
     "output_type": "stream",
     "text": [
      "False\n"
     ]
    }
   ],
   "source": [
    "numpy='str'\n",
    "print(numpy.isdigit())"
   ]
  },
  {
   "cell_type": "code",
   "execution_count": 115,
   "id": "fea12022-d145-4af6-b06d-d338431d6955",
   "metadata": {},
   "outputs": [
    {
     "name": "stdout",
     "output_type": "stream",
     "text": [
      "True\n"
     ]
    }
   ],
   "source": [
    "numpie='var123_int'                #Returns True if the string is an identifier\n",
    "print(numpie.isidentifier())"
   ]
  },
  {
   "cell_type": "code",
   "execution_count": 116,
   "id": "83dc9886-991d-450d-a5bd-ab2c6991d672",
   "metadata": {},
   "outputs": [
    {
     "name": "stdout",
     "output_type": "stream",
     "text": [
      "False\n"
     ]
    }
   ],
   "source": [
    "print(t.islower())"
   ]
  },
  {
   "cell_type": "code",
   "execution_count": 3,
   "id": "93953164-680c-4b93-8fd7-b5b53dcc5c72",
   "metadata": {},
   "outputs": [
    {
     "name": "stdout",
     "output_type": "stream",
     "text": [
      "True\n"
     ]
    }
   ],
   "source": [
    "x=123\n",
    "print(str(x).isnumeric())"
   ]
  },
  {
   "cell_type": "code",
   "execution_count": 5,
   "id": "09c098d3-cd6b-4785-a4ed-8f79cda52fb1",
   "metadata": {},
   "outputs": [
    {
     "name": "stdout",
     "output_type": "stream",
     "text": [
      "True\n"
     ]
    }
   ],
   "source": [
    "print(str(x).isprintable()) # Returns True if all characters in the string are printable"
   ]
  },
  {
   "cell_type": "code",
   "execution_count": 13,
   "id": "9b3ba314-08e0-47f7-9ab6-290eb3839e33",
   "metadata": {},
   "outputs": [
    {
     "name": "stdout",
     "output_type": "stream",
     "text": [
      "True\n"
     ]
    }
   ],
   "source": [
    "txt=\"   \"\n",
    "print(txt.isspace()) #Returns True if all characters in the string are whitespaces"
   ]
  },
  {
   "cell_type": "code",
   "execution_count": 19,
   "id": "58958199-f18f-47e2-ae69-29da43c2d1a0",
   "metadata": {},
   "outputs": [
    {
     "name": "stdout",
     "output_type": "stream",
     "text": [
      "False\n"
     ]
    }
   ],
   "source": [
    "kn='Hello ML'\n",
    "print(kn.isspace())"
   ]
  },
  {
   "cell_type": "code",
   "execution_count": 20,
   "id": "29f0bceb-38b3-415d-9e4b-eb62538d4d60",
   "metadata": {},
   "outputs": [
    {
     "name": "stdout",
     "output_type": "stream",
     "text": [
      "False\n"
     ]
    }
   ],
   "source": [
    "print(kn.istitle())"
   ]
  },
  {
   "cell_type": "code",
   "execution_count": 21,
   "id": "67fea779-490c-47f6-af1c-0a3e9c6688ee",
   "metadata": {},
   "outputs": [
    {
     "name": "stdout",
     "output_type": "stream",
     "text": [
      "True\n"
     ]
    }
   ],
   "source": [
    "txt=\"Hello, And Welcome To My World!\"\n",
    "print(txt.istitle())    #The istitle() method returns True if all words in a text start with a upper case letter, AND the rest of the word are lower case letters, otherwise False."
   ]
  },
  {
   "cell_type": "code",
   "execution_count": 23,
   "id": "021999d4-c71e-4020-9795-ce6cf8923bbe",
   "metadata": {},
   "outputs": [
    {
     "name": "stdout",
     "output_type": "stream",
     "text": [
      "hello ml\n"
     ]
    }
   ],
   "source": [
    "print(kn.lower())"
   ]
  },
  {
   "cell_type": "code",
   "execution_count": 24,
   "id": "ed775d00-2f7b-4e4c-8fd8-ad4484cc23f6",
   "metadata": {},
   "outputs": [
    {
     "name": "stdout",
     "output_type": "stream",
     "text": [
      "hello ml\n"
     ]
    }
   ],
   "source": [
    "print(kn.casefold())"
   ]
  },
  {
   "cell_type": "code",
   "execution_count": null,
   "id": "131fe025-580a-4ca0-9c26-a948fb1a5e21",
   "metadata": {},
   "outputs": [],
   "source": [
    "print(kn.ltrim"
   ]
  },
  {
   "cell_type": "code",
   "execution_count": 32,
   "id": "1133896b-0b9c-48fa-bdeb-45fb9828ceda",
   "metadata": {},
   "outputs": [],
   "source": [
    "my_join=('data','Strctures',' machinelearning ')\n",
    "x=' Artifical Intelligence '.join(my_join)"
   ]
  },
  {
   "cell_type": "code",
   "execution_count": 33,
   "id": "083311ed-a869-41da-b42c-ec2f67d5b006",
   "metadata": {},
   "outputs": [
    {
     "name": "stdout",
     "output_type": "stream",
     "text": [
      "data Artifical Intelligence Strctures Artifical Intelligence  machinelearning \n"
     ]
    }
   ],
   "source": [
    "print(x)"
   ]
  },
  {
   "cell_type": "code",
   "execution_count": 49,
   "id": "c3a7e77a-f100-49ed-8ab3-e67fd4d663a4",
   "metadata": {},
   "outputs": [
    {
     "name": "stdout",
     "output_type": "stream",
     "text": [
      "Appleeeeeeeeeeeeeeee\n"
     ]
    }
   ],
   "source": [
    "m='Apple'\n",
    "print(m.ljust(20,\"e\"))"
   ]
  },
  {
   "cell_type": "code",
   "execution_count": 46,
   "id": "573f26d1-150f-4103-8002-70ddb22445c6",
   "metadata": {},
   "outputs": [
    {
     "name": "stdout",
     "output_type": "stream",
     "text": [
      "Apple i love\n"
     ]
    }
   ],
   "source": [
    "x=m.ljust(1)\n",
    "print(x,\"i love\")"
   ]
  },
  {
   "cell_type": "code",
   "execution_count": 52,
   "id": "fad0c157-f47c-4042-b87b-2b5cf40f96ae",
   "metadata": {},
   "outputs": [
    {
     "name": "stdout",
     "output_type": "stream",
     "text": [
      "Apple        \n"
     ]
    }
   ],
   "source": [
    "y=\"      Apple        \"\n",
    "print(y.lstrip())"
   ]
  },
  {
   "cell_type": "code",
   "execution_count": 3,
   "id": "fce58448-ad6c-4e4c-84e5-71b711ee3b03",
   "metadata": {},
   "outputs": [
    {
     "name": "stdout",
     "output_type": "stream",
     "text": [
      "Hello Kannemadugu\n"
     ]
    }
   ],
   "source": [
    "l='Hello Mannemadugu'\n",
    "sur=str.maketrans(\"M\",\"K\")   #Create a mapping table, and use it in the translate() method to replace any \"M\" characters with a \"K\" character:\n",
    "print(l.translate(sur))\n"
   ]
  },
  {
   "cell_type": "code",
   "execution_count": 10,
   "id": "642753c5-b85d-4670-9fbd-2fe60d70caaa",
   "metadata": {},
   "outputs": [
    {
     "name": "stdout",
     "output_type": "stream",
     "text": [
      "('Eat when you feel ', 'hungary', '')\n"
     ]
    }
   ],
   "source": [
    "km=\"Eat when you feel hungary\"  #partitions\n",
    "x=km.partition(\"hungary\")\n",
    "print(x)"
   ]
  },
  {
   "cell_type": "code",
   "execution_count": 19,
   "id": "68dcecf9-be92-4df3-91c1-7d534d862ed6",
   "metadata": {},
   "outputs": [
    {
     "name": "stdout",
     "output_type": "stream",
     "text": [
      "Hello, India\n"
     ]
    }
   ],
   "source": [
    "j=\"Hello, World\"\n",
    "y=j.replace(\"World\",\"India\")\n",
    "print(y)"
   ]
  },
  {
   "cell_type": "code",
   "execution_count": 38,
   "id": "d75f178b-dc4b-4704-a0da-59d5da0cba34",
   "metadata": {},
   "outputs": [
    {
     "name": "stdout",
     "output_type": "stream",
     "text": [
      "19\n"
     ]
    }
   ],
   "source": [
    "#rfind()\n",
    "km=\"Eat when You feel hhungary\"  # find occurence from left side rfind occurence from right side.\n",
    "x=km.rfind(\"h\")\n",
    "print(x)"
   ]
  },
  {
   "cell_type": "code",
   "execution_count": 51,
   "id": "5ec05722-53aa-4952-a808-b7b07abb4e18",
   "metadata": {},
   "outputs": [
    {
     "name": "stdout",
     "output_type": "stream",
     "text": [
      "8\n"
     ]
    }
   ],
   "source": [
    "f=\"this ismeabcde\"\n",
    "e=f.rindex(\"e\")  \n",
    "print(e)"
   ]
  },
  {
   "cell_type": "code",
   "execution_count": 134,
   "id": "db42f349-4907-4aaa-b007-f0a972604034",
   "metadata": {},
   "outputs": [
    {
     "ename": "TypeError",
     "evalue": "The fill character must be a unicode character, not int",
     "output_type": "error",
     "traceback": [
      "\u001b[1;31m---------------------------------------------------------------------------\u001b[0m",
      "\u001b[1;31mTypeError\u001b[0m                                 Traceback (most recent call last)",
      "Cell \u001b[1;32mIn[134], line 2\u001b[0m\n\u001b[0;32m      1\u001b[0m c\u001b[38;5;241m=\u001b[39m\u001b[38;5;124m\"\u001b[39m\u001b[38;5;124mThis is mahesh\u001b[39m\u001b[38;5;124m\"\u001b[39m\n\u001b[1;32m----> 2\u001b[0m s\u001b[38;5;241m=\u001b[39mc\u001b[38;5;241m.\u001b[39mrjust(\u001b[38;5;241m10\u001b[39m,\u001b[38;5;241m0\u001b[39m)\n\u001b[0;32m      3\u001b[0m \u001b[38;5;28mprint\u001b[39m(s)\n",
      "\u001b[1;31mTypeError\u001b[0m: The fill character must be a unicode character, not int"
     ]
    }
   ],
   "source": [
    "c=\"This is mahesh\"\n",
    "s=c.rjust(10)\n",
    "print(s)"
   ]
  },
  {
   "cell_type": "code",
   "execution_count": 56,
   "id": "8301fcc6-3b75-445f-a624-cb8a8191494c",
   "metadata": {},
   "outputs": [
    {
     "name": "stdout",
     "output_type": "stream",
     "text": [
      "['This is mahesh']\n"
     ]
    }
   ],
   "source": [
    "c=\"This is mahesh\"\n",
    "s=c.split(\"s\")\n",
    "print(s)"
   ]
  },
  {
   "cell_type": "code",
   "execution_count": 64,
   "id": "a143b99a-a3bc-468c-aa31-bbdaca75c0b5",
   "metadata": {},
   "outputs": [
    {
     "name": "stdout",
     "output_type": "stream",
     "text": [
      "True\n"
     ]
    }
   ],
   "source": [
    "s=\"consistency is the key\"\n",
    "h=s.startswith(\"c\")\n",
    "print(h)"
   ]
  },
  {
   "cell_type": "markdown",
   "id": "0fa1b095-1732-4c30-81be-930a964590cf",
   "metadata": {},
   "source": [
    "In Python, `lstrip()`, `rstrip()`, and `strip()` are string methods used to remove whitespace (or other specified characters) from a string, but they differ in where they remove the characters:\n",
    "\n",
    "1. **`lstrip()`**: Removes leading (left-side) whitespace or specified characters from the beginning of the string.\n",
    "   - Example:\n",
    "     ```python\n",
    "     text = \"  Hello\"\n",
    "     print(text.lstrip())  # Output: \"Hello\"\n",
    "     ```\n",
    "\n",
    "2. **`rstrip()`**: Removes trailing (right-side) whitespace or specified characters from the end of the string.\n",
    "   - Example:\n",
    "     ```python\n",
    "     text = \"Hello  \"\n",
    "     print(text.rstrip())  # Output: \"Hello\"\n",
    "     ```\n",
    "\n",
    "3. **`strip()`**: Removes both leading (left-side) and trailing (right-side) whitespace or specified characters.\n",
    "   - Example:\n",
    "     ```python\n",
    "     text = \"  Hello  \"\n",
    "     print(text.strip())  # Output: \"Hello\"\n",
    "     ```\n",
    "\n",
    "These methods are handy for cleaning up strings before further processing."
   ]
  },
  {
   "cell_type": "code",
   "execution_count": 82,
   "id": "8f05484d-4a2c-4e5d-bfcf-7a4bb33983a0",
   "metadata": {},
   "outputs": [
    {
     "name": "stdout",
     "output_type": "stream",
     "text": [
      "earn genrative ai\n"
     ]
    }
   ],
   "source": [
    "p=\"learn genrative ai\"\n",
    "l=p.strip(\"l\")\n",
    "print(l)"
   ]
  },
  {
   "cell_type": "code",
   "execution_count": 91,
   "id": "c186a790-1158-4444-85a4-a7246f113ceb",
   "metadata": {},
   "outputs": [
    {
     "name": "stdout",
     "output_type": "stream",
     "text": [
      "Hello\n"
     ]
    }
   ],
   "source": [
    "text = \"      Hello\"\n",
    "print(text.lstrip())  # Output: \"Hello\""
   ]
  },
  {
   "cell_type": "code",
   "execution_count": 84,
   "id": "8d99fa7f-90a0-4de6-8c4e-d5c965a6a6aa",
   "metadata": {},
   "outputs": [
    {
     "name": "stdout",
     "output_type": "stream",
     "text": [
      "Hello\n"
     ]
    }
   ],
   "source": [
    "text = \"Hello  \"\n",
    "print(text.rstrip())  # Output: \"Hello\""
   ]
  },
  {
   "cell_type": "code",
   "execution_count": 85,
   "id": "c0ca4105-a478-415b-80da-ad2c9b932e26",
   "metadata": {},
   "outputs": [
    {
     "name": "stdout",
     "output_type": "stream",
     "text": [
      "Hello\n"
     ]
    }
   ],
   "source": [
    "text = \"  Hello  \"\n",
    "print(text.strip())  # Output: \"Hello\""
   ]
  },
  {
   "cell_type": "code",
   "execution_count": 92,
   "id": "f4ca4fb0-e436-47cb-8206-a189622360a9",
   "metadata": {},
   "outputs": [
    {
     "name": "stdout",
     "output_type": "stream",
     "text": [
      "ALLISWELL\n"
     ]
    }
   ],
   "source": [
    "texas=\"alliswell\"\n",
    "print(texas.swapcase())"
   ]
  },
  {
   "cell_type": "code",
   "execution_count": 93,
   "id": "d4bd1b19-c911-4668-8b36-a2880ae47bd3",
   "metadata": {},
   "outputs": [
    {
     "name": "stdout",
     "output_type": "stream",
     "text": [
      "alliswell\n"
     ]
    }
   ],
   "source": [
    "california=\"ALLISWELL\"\n",
    "print(california.swapcase())"
   ]
  },
  {
   "cell_type": "code",
   "execution_count": 100,
   "id": "0243bb89-f773-4b83-b638-f771c8d4ad1d",
   "metadata": {},
   "outputs": [
    {
     "name": "stdout",
     "output_type": "stream",
     "text": [
      "Hello\n"
     ]
    }
   ],
   "source": [
    "usa=\"hello\"\n",
    "print(usa.title())"
   ]
  },
  {
   "cell_type": "code",
   "execution_count": 107,
   "id": "fba5aa88-3b7b-4ff5-88ad-1d44bf211978",
   "metadata": {},
   "outputs": [
    {
     "name": "stdout",
     "output_type": "stream",
     "text": [
      "Hello Pam\n"
     ]
    }
   ],
   "source": [
    "my_dict={83:  80}\n",
    "txt=\"Hello Sam\"\n",
    "print(txt.translate(my_dict))"
   ]
  },
  {
   "cell_type": "code",
   "execution_count": 115,
   "id": "c210947e-e7af-4ed6-86a8-b91d7ef01c58",
   "metadata": {},
   "outputs": [
    {
     "name": "stdout",
     "output_type": "stream",
     "text": [
      "white Rom\n"
     ]
    }
   ],
   "source": [
    "my_tab={117:111}\n",
    "g=\"white Rum\"\n",
    "print(g.translate(my_tab))"
   ]
  },
  {
   "cell_type": "code",
   "execution_count": 123,
   "id": "6401aeb2-ae93-438a-bd19-355249ef2021",
   "metadata": {},
   "outputs": [
    {
     "name": "stdout",
     "output_type": "stream",
     "text": [
      "0000000045\n"
     ]
    }
   ],
   "source": [
    "txt = \"45\"\n",
    "\n",
    "x = txt.zfill(10)\n",
    "\n",
    "print(x)"
   ]
  },
  {
   "cell_type": "code",
   "execution_count": null,
   "id": "6173c3e3-5c13-4153-bd75-72164adf243a",
   "metadata": {},
   "outputs": [],
   "source": []
  }
 ],
 "metadata": {
  "kernelspec": {
   "display_name": "Python 3 (ipykernel)",
   "language": "python",
   "name": "python3"
  },
  "language_info": {
   "codemirror_mode": {
    "name": "ipython",
    "version": 3
   },
   "file_extension": ".py",
   "mimetype": "text/x-python",
   "name": "python",
   "nbconvert_exporter": "python",
   "pygments_lexer": "ipython3",
   "version": "3.12.7"
  }
 },
 "nbformat": 4,
 "nbformat_minor": 5
}
