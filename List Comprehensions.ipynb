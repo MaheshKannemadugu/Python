{
 "cells": [
  {
   "cell_type": "code",
   "execution_count": 9,
   "id": "dac9fb6e-175f-4523-86ed-51fc4b0c3fc9",
   "metadata": {},
   "outputs": [
    {
     "data": {
      "text/plain": [
       "[0, 1, 8, 27, 64, 125, 216, 343, 512, 729]"
      ]
     },
     "execution_count": 9,
     "metadata": {},
     "output_type": "execute_result"
    }
   ],
   "source": [
    "cubes=[]\n",
    "for x in range(10):\n",
    "    cubes.append(x**3)\n",
    "cubes    "
   ]
  },
  {
   "cell_type": "code",
   "execution_count": 10,
   "id": "ee0dead1-2230-4c7e-96df-c39fddcaf6e7",
   "metadata": {},
   "outputs": [
    {
     "data": {
      "text/plain": [
       "[0, 1, 16, 81, 256, 625, 1296, 2401, 4096, 6561]"
      ]
     },
     "execution_count": 10,
     "metadata": {},
     "output_type": "execute_result"
    }
   ],
   "source": [
    "power=[]\n",
    "for y in range(10):\n",
    "    power.append(y**4)\n",
    "power    "
   ]
  },
  {
   "cell_type": "code",
   "execution_count": 11,
   "id": "7e179683-9478-4b47-957f-e86a91dc0b21",
   "metadata": {},
   "outputs": [
    {
     "data": {
      "text/plain": [
       "[0, 1, 32, 243, 1024, 3125, 7776, 16807, 32768, 59049]"
      ]
     },
     "execution_count": 11,
     "metadata": {},
     "output_type": "execute_result"
    }
   ],
   "source": [
    "power5=[]\n",
    "for z in range(10):\n",
    "    power5.append(z**5)\n",
    "power5    "
   ]
  },
  {
   "cell_type": "code",
   "execution_count": 13,
   "id": "e2138707-00e8-4c5f-a3e6-405dfcbc2721",
   "metadata": {},
   "outputs": [
    {
     "data": {
      "text/plain": [
       "[0, 1, 4, 9, 16, 25, 36, 49, 64, 81]"
      ]
     },
     "execution_count": 13,
     "metadata": {},
     "output_type": "execute_result"
    }
   ],
   "source": [
    "sq"
   ]
  },
  {
   "cell_type": "code",
   "execution_count": 30,
   "id": "ab90bb74-d7f6-4b0d-bf00-210304b56604",
   "metadata": {},
   "outputs": [
    {
     "data": {
      "text/plain": [
       "[0, 1, 8, 27, 64]"
      ]
     },
     "execution_count": 30,
     "metadata": {},
     "output_type": "execute_result"
    }
   ],
   "source": [
    "maps=list(map(lambda x:x**3 ,range(5)))\n",
    "maps"
   ]
  },
  {
   "cell_type": "code",
   "execution_count": 33,
   "id": "a699e24f-b762-4e45-b726-7cf96c4b55d2",
   "metadata": {},
   "outputs": [
    {
     "data": {
      "text/plain": [
       "[(1, 3), (1, 4), (2, 3), (2, 1), (2, 4), (3, 1), (3, 4)]"
      ]
     },
     "execution_count": 33,
     "metadata": {},
     "output_type": "execute_result"
    }
   ],
   "source": [
    "[(x, y) for x in [1,2,3] for y in [3,1,4] if x != y]"
   ]
  },
  {
   "cell_type": "code",
   "execution_count": 45,
   "id": "ecd3e09e-2ae6-427e-8249-6ab5074f3eaf",
   "metadata": {},
   "outputs": [
    {
     "data": {
      "text/plain": [
       "[(1, 3), (1, 4), (1, 5), (2, 3), (2, 4), (2, 5), (3, 4), (3, 5)]"
      ]
     },
     "execution_count": 45,
     "metadata": {},
     "output_type": "execute_result"
    }
   ],
   "source": [
    "combos=[]\n",
    "for x in [1,2,3]:\n",
    "    for y in [3,4,5]:\n",
    "        if x!=y:\n",
    "            combos.append((x,y))\n",
    "combos            "
   ]
  },
  {
   "cell_type": "code",
   "execution_count": 54,
   "id": "66e4e700-89b5-40bb-9555-aa7c9fe38b8f",
   "metadata": {},
   "outputs": [
    {
     "data": {
      "text/plain": [
       "[0, 1, 0, 1, 0, 1, 0, 1, 0, 1]"
      ]
     },
     "execution_count": 54,
     "metadata": {},
     "output_type": "execute_result"
    }
   ],
   "source": [
    "eve=list(map(lambda x: x%2 ,range(10)))\n",
    "\n",
    "eve\n"
   ]
  },
  {
   "cell_type": "markdown",
   "id": "1f63cb3b-370b-4d4e-857e-1d80eef86995",
   "metadata": {},
   "source": [
    "# Nested List Comprehensions"
   ]
  },
  {
   "cell_type": "code",
   "execution_count": 68,
   "id": "4fad26e3-84b2-4318-812d-600f0ad18992",
   "metadata": {},
   "outputs": [
    {
     "data": {
      "text/plain": [
       "[[1, 2, 3, 4, 5], [12, 15, 20, 13, 17], [57, 25, 35, 22, 21]]"
      ]
     },
     "execution_count": 68,
     "metadata": {},
     "output_type": "execute_result"
    }
   ],
   "source": [
    "Matrix =[[1,2,3,4,5],\n",
    "         [12,15,20,13,17],\n",
    "         [57,25,35,22,21]]\n",
    "Matrix"
   ]
  },
  {
   "cell_type": "code",
   "execution_count": 68,
   "id": "bbdaa113-25a7-4422-88e6-dae068901756",
   "metadata": {},
   "outputs": [
    {
     "data": {
      "text/plain": [
       "[[1, 2, 3, 4, 5], [12, 15, 20, 13, 17], [57, 25, 35, 22, 21]]"
      ]
     },
     "execution_count": 68,
     "metadata": {},
     "output_type": "execute_result"
    }
   ],
   "source": [
    "Matrix =[[1,2,3,4,5],\n",
    "         [12,15,20,13,17],\n",
    "         [57,25,35,22,21]]\n",
    "Matrix"
   ]
  },
  {
   "cell_type": "code",
   "execution_count": 80,
   "id": "009939b9-f832-4a7e-9e33-7c481ad748b0",
   "metadata": {},
   "outputs": [
    {
     "data": {
      "text/plain": [
       "[1, 2, 3, 12, 15, 20, 57, 25, 35]"
      ]
     },
     "execution_count": 80,
     "metadata": {},
     "output_type": "execute_result"
    }
   ],
   "source": [
    "[row[j] for row in Matrix for j in range(3)]"
   ]
  },
  {
   "cell_type": "code",
   "execution_count": 81,
   "id": "9069e80e-a890-4682-a94e-8ef2ff6d91b3",
   "metadata": {},
   "outputs": [
    {
     "data": {
      "text/plain": [
       "[1, 2, 3, 12, 15, 20, 57, 25, 35]"
      ]
     },
     "execution_count": 81,
     "metadata": {},
     "output_type": "execute_result"
    }
   ],
   "source": [
    "[column[i]for column in Matrix for i in range(3)]"
   ]
  },
  {
   "cell_type": "code",
   "execution_count": 84,
   "id": "78220ae9-070b-484d-9968-39c3502a5352",
   "metadata": {},
   "outputs": [
    {
     "data": {
      "text/plain": [
       "[[1, 12, 57], [2, 15, 25], [3, 20, 35], [4, 13, 22]]"
      ]
     },
     "execution_count": 84,
     "metadata": {},
     "output_type": "execute_result"
    }
   ],
   "source": [
    "transposed=[]\n",
    "for i in range (4):\n",
    "    transposed.append([row[i] for row in Matrix])\n",
    "transposed"
   ]
  },
  {
   "cell_type": "code",
   "execution_count": 86,
   "id": "90cdf067-ec68-47de-8d95-9cb7e4f525dc",
   "metadata": {},
   "outputs": [
    {
     "data": {
      "text/plain": [
       "[[1, 12, 57], [2, 15, 25], [3, 20, 35], [4, 13, 22], [5, 17, 21]]"
      ]
     },
     "execution_count": 86,
     "metadata": {},
     "output_type": "execute_result"
    }
   ],
   "source": [
    "nested=[]\n",
    "for k in range(5):\n",
    "    nested.append([column[k] for column in Matrix])\n",
    "nested    "
   ]
  },
  {
   "cell_type": "code",
   "execution_count": 95,
   "id": "a199a9a4-6464-4d02-994e-98f792ca2667",
   "metadata": {},
   "outputs": [
    {
     "data": {
      "text/plain": [
       "[[1, 4, 7], [2, 5, 8]]"
      ]
     },
     "execution_count": 95,
     "metadata": {},
     "output_type": "execute_result"
    }
   ],
   "source": [
    "transposed = []\n",
    "for i in range(2):\n",
    "    # the following 3 lines implement the nested listcomp\n",
    "    transposed_row = []\n",
    "    for row in matrix:\n",
    "        transposed_row.append(row[i])\n",
    "    transposed.append(transposed_row)\n",
    "\n",
    "transposed"
   ]
  },
  {
   "cell_type": "code",
   "execution_count": 97,
   "id": "71883f13-088c-4e6d-b197-784c732a6e07",
   "metadata": {},
   "outputs": [
    {
     "data": {
      "text/plain": [
       "[[1, 12, 57], [2, 15, 25]]"
      ]
     },
     "execution_count": 97,
     "metadata": {},
     "output_type": "execute_result"
    }
   ],
   "source": [
    "trans=[]\n",
    "for x in range(2):\n",
    "    trans_row=[]\n",
    "    for row in Matrix:\n",
    "        trans_row.append(row[x])\n",
    "    trans.append(trans_row)  \n",
    "trans                         "
   ]
  },
  {
   "cell_type": "code",
   "execution_count": 91,
   "id": "4f527a71-1645-4f78-8fec-b37b3c76859c",
   "metadata": {},
   "outputs": [
    {
     "data": {
      "text/plain": [
       "[(1, 12, 57), (2, 15, 25), (3, 20, 35), (4, 13, 22), (5, 17, 21)]"
      ]
     },
     "execution_count": 91,
     "metadata": {},
     "output_type": "execute_result"
    }
   ],
   "source": [
    "list(zip(*Matrix))"
   ]
  },
  {
   "cell_type": "code",
   "execution_count": 98,
   "id": "3d908d5e-5c00-4184-83ab-bf67660825f8",
   "metadata": {},
   "outputs": [
    {
     "data": {
      "text/plain": [
       "<zip at 0x1f06e1b50c0>"
      ]
     },
     "execution_count": 98,
     "metadata": {},
     "output_type": "execute_result"
    }
   ],
   "source": [
    "zip(*Matrix)"
   ]
  },
  {
   "cell_type": "code",
   "execution_count": null,
   "id": "57c392ee-72f7-400e-9645-ccc80296dcdc",
   "metadata": {},
   "outputs": [],
   "source": [
    "Exapmple of zip"
   ]
  },
  {
   "cell_type": "code",
   "execution_count": 99,
   "id": "669234d4-f1fe-4926-a92e-7b9518d347ed",
   "metadata": {},
   "outputs": [
    {
     "name": "stdout",
     "output_type": "stream",
     "text": [
      "[(1, 'a'), (2, 'b'), (3, 'c'), (4, 'd'), (5, 'e')]\n"
     ]
    }
   ],
   "source": [
    "number=[1,2,3,4,5]\n",
    "alpha=['a','b','c','d','e']\n",
    "zipped=zip(number,alpha)\n",
    "print(list(zipped))\n"
   ]
  },
  {
   "cell_type": "code",
   "execution_count": null,
   "id": "8fe900f6-0286-4ac1-a699-ab32f5276916",
   "metadata": {},
   "outputs": [],
   "source": []
  }
 ],
 "metadata": {
  "kernelspec": {
   "display_name": "Python 3 (ipykernel)",
   "language": "python",
   "name": "python3"
  },
  "language_info": {
   "codemirror_mode": {
    "name": "ipython",
    "version": 3
   },
   "file_extension": ".py",
   "mimetype": "text/x-python",
   "name": "python",
   "nbconvert_exporter": "python",
   "pygments_lexer": "ipython3",
   "version": "3.12.7"
  }
 },
 "nbformat": 4,
 "nbformat_minor": 5
}
