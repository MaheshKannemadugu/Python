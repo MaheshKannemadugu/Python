{
 "cells": [
  {
   "cell_type": "raw",
   "id": "5e1a578d-48c2-47a0-a163-c8e42b913317",
   "metadata": {},
   "source": [
    "Dictionaries:\n",
    "\n",
    "*Dictionaries are unordered  Mappings  for storing  objects.\n",
    "*Dictionaries use curly braces({}) and colons (:) to signify the keys and their associated values\n",
    "         {'key1':'value1','key2':'value2'}\n",
    "*Dictionaries are objects retrived by key name\n",
    "*Dictionaries have key value mapping\n",
    "*Dictionaries in Python are a versatile and powerful data structure that allows you to store data in key-value pairs."
   ]
  },
  {
   "cell_type": "code",
   "execution_count": 56,
   "id": "4e8cbcf9-f8c2-4532-b7a7-c30bd68a30d6",
   "metadata": {},
   "outputs": [],
   "source": [
    "my_dict={'key1':'value1','key2':'value2'}"
   ]
  },
  {
   "cell_type": "code",
   "execution_count": 2,
   "id": "d265fd56-6da6-49ef-aabf-626da035b2a1",
   "metadata": {},
   "outputs": [
    {
     "data": {
      "text/plain": [
       "{'key1': 'value1', 'key2': 'value2'}"
      ]
     },
     "execution_count": 2,
     "metadata": {},
     "output_type": "execute_result"
    }
   ],
   "source": [
    "my_dict"
   ]
  },
  {
   "cell_type": "code",
   "execution_count": 26,
   "id": "86fad847-e7af-4e8b-963e-d43bbbb6a619",
   "metadata": {},
   "outputs": [
    {
     "data": {
      "text/plain": [
       "dict_keys(['kiran', 'jack', 'arjun'])"
      ]
     },
     "execution_count": 26,
     "metadata": {},
     "output_type": "execute_result"
    }
   ],
   "source": [
    "my_dict.keys() "
   ]
  },
  {
   "cell_type": "code",
   "execution_count": 27,
   "id": "945949aa-8026-4a2c-bdbc-0eebf8799a9f",
   "metadata": {},
   "outputs": [
    {
     "data": {
      "text/plain": [
       "dict_values([3000, 5000, 1000])"
      ]
     },
     "execution_count": 27,
     "metadata": {},
     "output_type": "execute_result"
    }
   ],
   "source": [
    "my_dict.values() # Method to grab all values"
   ]
  },
  {
   "cell_type": "code",
   "execution_count": 28,
   "id": "550efd71-2322-4977-a1a5-efe0d013c21e",
   "metadata": {},
   "outputs": [
    {
     "data": {
      "text/plain": [
       "dict_items([('kiran', 3000), ('jack', 5000), ('arjun', 1000)])"
      ]
     },
     "execution_count": 28,
     "metadata": {},
     "output_type": "execute_result"
    }
   ],
   "source": [
    "my_dict.items() # Method to return tuples of all items"
   ]
  },
  {
   "cell_type": "code",
   "execution_count": 32,
   "id": "832cf6d2-1d31-423f-898e-237e12124d39",
   "metadata": {},
   "outputs": [],
   "source": [
    "my_dict={'kim':2000,'kiran':3000,'jack':5000} #Define the key and value"
   ]
  },
  {
   "cell_type": "code",
   "execution_count": 4,
   "id": "5c4c4c60-bfc4-4aaf-a1d6-3eceae83db7b",
   "metadata": {},
   "outputs": [
    {
     "data": {
      "text/plain": [
       "{'kim': 2000, 'kiran': 3000, 'jack': 5000}"
      ]
     },
     "execution_count": 4,
     "metadata": {},
     "output_type": "execute_result"
    }
   ],
   "source": [
    "my_dict"
   ]
  },
  {
   "cell_type": "code",
   "execution_count": 6,
   "id": "0e1a6576-1eb7-4038-b41d-b363adb3cad1",
   "metadata": {},
   "outputs": [],
   "source": [
    "my_dict['arjun']=1000  # add the elemnt"
   ]
  },
  {
   "cell_type": "code",
   "execution_count": 7,
   "id": "c7b1e56b-1c99-48ce-ad59-619693c9fe6a",
   "metadata": {},
   "outputs": [
    {
     "data": {
      "text/plain": [
       "{'kim': 2000, 'kiran': 3000, 'jack': 5000, 'arjun': 1000}"
      ]
     },
     "execution_count": 7,
     "metadata": {},
     "output_type": "execute_result"
    }
   ],
   "source": [
    "my_dict"
   ]
  },
  {
   "cell_type": "code",
   "execution_count": 8,
   "id": "c6f4e4e7-c1c0-4278-8c8e-fe23ddac468c",
   "metadata": {},
   "outputs": [
    {
     "data": {
      "text/plain": [
       "3000"
      ]
     },
     "execution_count": 8,
     "metadata": {},
     "output_type": "execute_result"
    }
   ],
   "source": [
    "my_dict['kiran'] # Know the value of key"
   ]
  },
  {
   "cell_type": "code",
   "execution_count": 9,
   "id": "888ae7bc-a368-4f1e-8fb1-cf63253beaf5",
   "metadata": {},
   "outputs": [],
   "source": [
    "del my_dict['kim'] # delete dictionary using del keyword"
   ]
  },
  {
   "cell_type": "code",
   "execution_count": 10,
   "id": "5596887b-bed2-4a5b-b51a-b1c978a824ec",
   "metadata": {},
   "outputs": [
    {
     "data": {
      "text/plain": [
       "{'kiran': 3000, 'jack': 5000, 'arjun': 1000}"
      ]
     },
     "execution_count": 10,
     "metadata": {},
     "output_type": "execute_result"
    }
   ],
   "source": [
    "my_dict"
   ]
  },
  {
   "cell_type": "code",
   "execution_count": 11,
   "id": "4c4a8306-f6a8-432b-8481-8a157a5d5ea5",
   "metadata": {},
   "outputs": [
    {
     "data": {
      "text/plain": [
       "['kiran', 'jack', 'arjun']"
      ]
     },
     "execution_count": 11,
     "metadata": {},
     "output_type": "execute_result"
    }
   ],
   "source": [
    "list(my_dict) # list out the name of key"
   ]
  },
  {
   "cell_type": "code",
   "execution_count": 12,
   "id": "f770b3cd-d168-42db-a431-0527a3abd9df",
   "metadata": {},
   "outputs": [
    {
     "data": {
      "text/plain": [
       "['arjun', 'jack', 'kiran']"
      ]
     },
     "execution_count": 12,
     "metadata": {},
     "output_type": "execute_result"
    }
   ],
   "source": [
    "sorted(my_dict) # sorted alphbet wise"
   ]
  },
  {
   "cell_type": "code",
   "execution_count": 14,
   "id": "3875831d-31a1-4bc6-9bb2-b85d8d5dbce0",
   "metadata": {},
   "outputs": [
    {
     "data": {
      "text/plain": [
       "True"
      ]
     },
     "execution_count": 14,
     "metadata": {},
     "output_type": "execute_result"
    }
   ],
   "source": [
    "'kiran' in my_dict #If available in Dictionaries  return boolan value"
   ]
  },
  {
   "cell_type": "code",
   "execution_count": 15,
   "id": "c3645f82-e2d2-45a7-b78e-b0c3844743a2",
   "metadata": {},
   "outputs": [
    {
     "data": {
      "text/plain": [
       "False"
      ]
     },
     "execution_count": 15,
     "metadata": {},
     "output_type": "execute_result"
    }
   ],
   "source": [
    "'kim' in my_dict"
   ]
  },
  {
   "cell_type": "markdown",
   "id": "2b9c6e78-d74f-438e-8949-9c49f20265cd",
   "metadata": {},
   "source": [
    "# Dict()  ##The dict() constructor builds dictionaries directly from sequences of key-value pairs:"
   ]
  },
  {
   "cell_type": "code",
   "execution_count": 17,
   "id": "88c02324-b003-4f4a-b61f-b6272239a08a",
   "metadata": {},
   "outputs": [
    {
     "data": {
      "text/plain": [
       "{'abc': 123, 'efg': 567, 'xyz': 234}"
      ]
     },
     "execution_count": 17,
     "metadata": {},
     "output_type": "execute_result"
    }
   ],
   "source": [
    "dict([('abc',123),('efg',567),('xyz',234)])"
   ]
  },
  {
   "cell_type": "code",
   "execution_count": 20,
   "id": "de8a787e-3516-4898-8459-1459e47732e7",
   "metadata": {},
   "outputs": [
    {
     "data": {
      "text/plain": [
       "{'madhu': 234, 'texas': 405, 'sasipasa': 505}"
      ]
     },
     "execution_count": 20,
     "metadata": {},
     "output_type": "execute_result"
    }
   ],
   "source": [
    "dict(madhu=234,texas=405,sasipasa=505) # defining key value pair constructor"
   ]
  },
  {
   "cell_type": "code",
   "execution_count": 23,
   "id": "4e365db3-3558-425b-a5fd-49eb1bcafa2e",
   "metadata": {},
   "outputs": [
    {
     "data": {
      "text/plain": [
       "{2: 4, 4: 16, 6: 36}"
      ]
     },
     "execution_count": 23,
     "metadata": {},
     "output_type": "execute_result"
    }
   ],
   "source": [
    "{n: n**2 for n in (2, 4, 6)} #dict comprehensions can be used to create dictionaries from arbitrary key and value expressions:"
   ]
  },
  {
   "cell_type": "code",
   "execution_count": 34,
   "id": "4404df79-1101-4f95-be23-2b6bd4ef36b0",
   "metadata": {},
   "outputs": [],
   "source": [
    "my_self={'key1':123,'key2':[12,23,33],'key3':['item0','item1','item2']}"
   ]
  },
  {
   "cell_type": "code",
   "execution_count": 35,
   "id": "1c8ac693-fb91-4b48-943e-0f111ef61f59",
   "metadata": {},
   "outputs": [
    {
     "data": {
      "text/plain": [
       "{'key1': 123, 'key2': [12, 23, 33], 'key3': ['item0', 'item1', 'item2']}"
      ]
     },
     "execution_count": 35,
     "metadata": {},
     "output_type": "execute_result"
    }
   ],
   "source": [
    "my_self"
   ]
  },
  {
   "cell_type": "code",
   "execution_count": 37,
   "id": "834f2fbf-10ff-47ee-95b1-f3947b83e130",
   "metadata": {},
   "outputs": [],
   "source": [
    "# Subtract 123 from the value\n",
    "my_self['key1'] = my_self['key1'] - 123"
   ]
  },
  {
   "cell_type": "code",
   "execution_count": 38,
   "id": "1c8cb298-e6d6-4aa6-953d-fe9aabde263d",
   "metadata": {},
   "outputs": [
    {
     "data": {
      "text/plain": [
       "{'key1': 0, 'key2': [12, 23, 33], 'key3': ['item0', 'item1', 'item2']}"
      ]
     },
     "execution_count": 38,
     "metadata": {},
     "output_type": "execute_result"
    }
   ],
   "source": [
    "my_self"
   ]
  },
  {
   "cell_type": "code",
   "execution_count": 39,
   "id": "86578497-5230-49e2-bc49-579736deda8d",
   "metadata": {},
   "outputs": [
    {
     "data": {
      "text/plain": [
       "-123"
      ]
     },
     "execution_count": 39,
     "metadata": {},
     "output_type": "execute_result"
    }
   ],
   "source": [
    "# Set the object equal to itself minus 123 \n",
    "my_self['key1'] -= 123\n",
    "my_self['key1']"
   ]
  },
  {
   "cell_type": "code",
   "execution_count": 54,
   "id": "924c2173-7119-4f86-9669-886188b1a7fe",
   "metadata": {},
   "outputs": [
    {
     "data": {
      "text/plain": [
       "'item0'"
      ]
     },
     "execution_count": 54,
     "metadata": {},
     "output_type": "execute_result"
    }
   ],
   "source": [
    "# Can call an index on that value\n",
    "my_self['key3'][0]"
   ]
  },
  {
   "cell_type": "code",
   "execution_count": 55,
   "id": "40d44c32-bf7a-48da-949d-81e03e53548a",
   "metadata": {},
   "outputs": [
    {
     "data": {
      "text/plain": [
       "'ITEM0'"
      ]
     },
     "execution_count": 55,
     "metadata": {},
     "output_type": "execute_result"
    }
   ],
   "source": [
    "# Can then even call methods on that value\n",
    "my_self['key3'][0].upper()"
   ]
  },
  {
   "cell_type": "markdown",
   "id": "6c08e567-e811-4074-9ccc-76db4daaa3a5",
   "metadata": {},
   "source": [
    "# We can also create keys by assignment. For instance if we started off with an empty dictionary, we could continually add to it:"
   ]
  },
  {
   "cell_type": "code",
   "execution_count": 41,
   "id": "b67d1d40-4716-4443-a633-d28da5f5ec82",
   "metadata": {},
   "outputs": [],
   "source": [
    "d={}"
   ]
  },
  {
   "cell_type": "code",
   "execution_count": 42,
   "id": "3e3b4a6a-f870-48ec-bcf1-0773220b787c",
   "metadata": {},
   "outputs": [
    {
     "data": {
      "text/plain": [
       "{}"
      ]
     },
     "execution_count": 42,
     "metadata": {},
     "output_type": "execute_result"
    }
   ],
   "source": [
    "d"
   ]
  },
  {
   "cell_type": "code",
   "execution_count": 46,
   "id": "8d18a200-e0ac-4dc8-8682-161f550d7699",
   "metadata": {},
   "outputs": [],
   "source": [
    "d['animal']='dog'"
   ]
  },
  {
   "cell_type": "code",
   "execution_count": 47,
   "id": "53bc49bc-f246-441b-a4ed-b3d9d45e3f42",
   "metadata": {},
   "outputs": [
    {
     "data": {
      "text/plain": [
       "{'animal': 'dog'}"
      ]
     },
     "execution_count": 47,
     "metadata": {},
     "output_type": "execute_result"
    }
   ],
   "source": [
    "d"
   ]
  },
  {
   "cell_type": "code",
   "execution_count": 48,
   "id": "9bbd6ce7-8f8a-414a-a1a0-933d6c255106",
   "metadata": {},
   "outputs": [],
   "source": [
    "d['vegtables']='beans'"
   ]
  },
  {
   "cell_type": "code",
   "execution_count": 49,
   "id": "d03fd670-23b2-4a01-9bdd-e1145aece701",
   "metadata": {},
   "outputs": [
    {
     "data": {
      "text/plain": [
       "{'animal': 'dog', 'vegtables': 'beans'}"
      ]
     },
     "execution_count": 49,
     "metadata": {},
     "output_type": "execute_result"
    }
   ],
   "source": [
    "d"
   ]
  },
  {
   "cell_type": "code",
   "execution_count": 50,
   "id": "8e99afe4-d786-4a13-bea9-4890d858ddb5",
   "metadata": {},
   "outputs": [],
   "source": [
    "d['Dataengineer']='AWS'"
   ]
  },
  {
   "cell_type": "code",
   "execution_count": 51,
   "id": "1aae13cd-ce23-4c47-bc14-19ee184cde6c",
   "metadata": {},
   "outputs": [
    {
     "data": {
      "text/plain": [
       "{'animal': 'dog', 'vegtables': 'beans', 'Dataengineer': 'AWS'}"
      ]
     },
     "execution_count": 51,
     "metadata": {},
     "output_type": "execute_result"
    }
   ],
   "source": [
    "d"
   ]
  },
  {
   "cell_type": "code",
   "execution_count": 52,
   "id": "b8917038-510e-49bc-a6fa-ef2983eea88d",
   "metadata": {},
   "outputs": [],
   "source": [
    "d['salary']=50"
   ]
  },
  {
   "cell_type": "code",
   "execution_count": 53,
   "id": "7c88b3f9-1c66-4905-b027-f7d3c773fe72",
   "metadata": {},
   "outputs": [
    {
     "data": {
      "text/plain": [
       "{'animal': 'dog', 'vegtables': 'beans', 'Dataengineer': 'AWS', 'salary': 50}"
      ]
     },
     "execution_count": 53,
     "metadata": {},
     "output_type": "execute_result"
    }
   ],
   "source": [
    "d"
   ]
  },
  {
   "cell_type": "code",
   "execution_count": null,
   "id": "9f2beb2d-2d09-469e-8de4-37342d3ec2ce",
   "metadata": {},
   "outputs": [],
   "source": []
  }
 ],
 "metadata": {
  "kernelspec": {
   "display_name": "Python 3 (ipykernel)",
   "language": "python",
   "name": "python3"
  },
  "language_info": {
   "codemirror_mode": {
    "name": "ipython",
    "version": 3
   },
   "file_extension": ".py",
   "mimetype": "text/x-python",
   "name": "python",
   "nbconvert_exporter": "python",
   "pygments_lexer": "ipython3",
   "version": "3.12.7"
  }
 },
 "nbformat": 4,
 "nbformat_minor": 5
}
