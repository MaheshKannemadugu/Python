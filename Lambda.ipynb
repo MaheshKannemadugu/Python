{
 "cells": [
  {
   "cell_type": "markdown",
   "id": "8ac711ae-b675-4046-918d-7cc8d758dc43",
   "metadata": {},
   "source": [
    "--> A lambda function is a small anonymous function.\n",
    "\n",
    "--> A lambda function can take any number of arguments, but can only have one expression."
   ]
  },
  {
   "cell_type": "markdown",
   "id": "194e6843-00ac-4895-8c6e-4da41c482a5a",
   "metadata": {},
   "source": [
    "Syntax:\n",
    "\n",
    "lambda arguments : expression"
   ]
  },
  {
   "cell_type": "code",
   "execution_count": 3,
   "id": "b0610515-c88a-442c-b7d1-bd631685c652",
   "metadata": {},
   "outputs": [
    {
     "name": "stdout",
     "output_type": "stream",
     "text": [
      "15\n"
     ]
    }
   ],
   "source": [
    "x= lambda a :a+10\n",
    "print(x(5))"
   ]
  },
  {
   "cell_type": "code",
   "execution_count": 17,
   "id": "7be3b8cb-976f-4e91-bd50-01bc76422f53",
   "metadata": {},
   "outputs": [
    {
     "name": "stdout",
     "output_type": "stream",
     "text": [
      "6\n"
     ]
    }
   ],
   "source": [
    "multi= lambda a,b :a+b\n",
    "print(multi(5,1))"
   ]
  },
  {
   "cell_type": "code",
   "execution_count": 18,
   "id": "9a1c1dff-90e0-4763-8d0a-dae97d450dac",
   "metadata": {},
   "outputs": [
    {
     "name": "stdout",
     "output_type": "stream",
     "text": [
      "True\n"
     ]
    }
   ],
   "source": [
    "com=lambda x,y:x>y\n",
    "print(com(9,3))"
   ]
  },
  {
   "cell_type": "code",
   "execution_count": 21,
   "id": "980fbe2c-102c-43d1-ac6c-bc59c3d9ca0c",
   "metadata": {},
   "outputs": [
    {
     "name": "stdout",
     "output_type": "stream",
     "text": [
      "True\n"
     ]
    }
   ],
   "source": [
    "logical= lambda a,b: a>0  and b>0 \n",
    "print(logical(5,3))"
   ]
  },
  {
   "cell_type": "code",
   "execution_count": 22,
   "id": "fb4a4da5-ab33-4bce-9a95-1d7a107a5d9e",
   "metadata": {},
   "outputs": [
    {
     "name": "stdout",
     "output_type": "stream",
     "text": [
      "True\n"
     ]
    }
   ],
   "source": [
    "logical_or=lambda a,b : a>1 or b>1\n",
    "print(logical(5,3))"
   ]
  },
  {
   "cell_type": "code",
   "execution_count": 26,
   "id": "f38d5f6b-3deb-4f56-9a66-1fcf860c3611",
   "metadata": {},
   "outputs": [
    {
     "name": "stdout",
     "output_type": "stream",
     "text": [
      "100\n"
     ]
    }
   ],
   "source": [
    "squ= lambda x :x**2 \n",
    "print(squ(10))"
   ]
  },
  {
   "cell_type": "code",
   "execution_count": 28,
   "id": "3decbf38-ff4c-4e26-a224-61e2219280ce",
   "metadata": {},
   "outputs": [],
   "source": [
    "def  myfun(n):\n",
    "    return lambda a:a*n"
   ]
  },
  {
   "cell_type": "code",
   "execution_count": 31,
   "id": "1272aec8-7c95-4ad3-a6ac-1f4f2fd4f5e2",
   "metadata": {},
   "outputs": [
    {
     "name": "stdout",
     "output_type": "stream",
     "text": [
      "13\n"
     ]
    }
   ],
   "source": [
    "def myfun(n):\n",
    "    return lambda a:a+n\n",
    "    mydoub=myfun(2)\n",
    "print(mydoub(11))"
   ]
  },
  {
   "cell_type": "code",
   "execution_count": 43,
   "id": "07d84f44-4f33-4005-83da-1cf52042eb7c",
   "metadata": {},
   "outputs": [
    {
     "name": "stdout",
     "output_type": "stream",
     "text": [
      "7\n"
     ]
    }
   ],
   "source": [
    "def mlti(a):\n",
    "    return lambda c:c+a\n",
    "mydb=mlti(5)\n",
    "print(mydb(2))    "
   ]
  },
  {
   "cell_type": "code",
   "execution_count": 44,
   "id": "90bd0a61-ea93-481d-bc52-53d60106859d",
   "metadata": {},
   "outputs": [
    {
     "name": "stdout",
     "output_type": "stream",
     "text": [
      "27\n"
     ]
    }
   ],
   "source": [
    "def multi(m):\n",
    "    return lambda m:m**3\n",
    "cube=multi(3)\n",
    "print(cube(3))                   "
   ]
  },
  {
   "cell_type": "code",
   "execution_count": null,
   "id": "e74783ee-ed1f-457f-afa1-d69cf27ec2e7",
   "metadata": {},
   "outputs": [],
   "source": []
  }
 ],
 "metadata": {
  "kernelspec": {
   "display_name": "Python 3 (ipykernel)",
   "language": "python",
   "name": "python3"
  },
  "language_info": {
   "codemirror_mode": {
    "name": "ipython",
    "version": 3
   },
   "file_extension": ".py",
   "mimetype": "text/x-python",
   "name": "python",
   "nbconvert_exporter": "python",
   "pygments_lexer": "ipython3",
   "version": "3.12.7"
  }
 },
 "nbformat": 4,
 "nbformat_minor": 5
}
