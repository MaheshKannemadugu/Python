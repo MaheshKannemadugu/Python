{
 "cells": [
  {
   "cell_type": "markdown",
   "id": "28f0709b-e4f4-408e-add5-e31bf6ec9c54",
   "metadata": {},
   "source": [
    "n=[1,2,3,4,5]\n",
    "n"
   ]
  },
  {
   "cell_type": "code",
   "execution_count": 16,
   "id": "600e802b-3ccb-4c50-b488-a4aeb21401cc",
   "metadata": {},
   "outputs": [
    {
     "data": {
      "text/plain": [
       "1"
      ]
     },
     "execution_count": 16,
     "metadata": {},
     "output_type": "execute_result"
    }
   ],
   "source": [
    "n[0]  # Indexing Return the Item"
   ]
  },
  {
   "cell_type": "code",
   "execution_count": 18,
   "id": "b2bef77a-ec12-41fe-8710-954a02679d54",
   "metadata": {},
   "outputs": [
    {
     "data": {
      "text/plain": [
       "4"
      ]
     },
     "execution_count": 18,
     "metadata": {},
     "output_type": "execute_result"
    }
   ],
   "source": [
    "n[-2] "
   ]
  },
  {
   "cell_type": "code",
   "execution_count": 28,
   "id": "631e2360-1ae2-44ab-907f-3a11fc61cbcc",
   "metadata": {},
   "outputs": [
    {
     "data": {
      "text/plain": [
       "[3, 4, 5]"
      ]
     },
     "execution_count": 28,
     "metadata": {},
     "output_type": "execute_result"
    }
   ],
   "source": [
    "n[2:]  # slicing returns a new list"
   ]
  },
  {
   "cell_type": "markdown",
   "id": "3bfebef8-2e8f-4772-9bc1-ce911d1c4145",
   "metadata": {},
   "source": [
    "Lists also support operations like concatenation:"
   ]
  },
  {
   "cell_type": "code",
   "execution_count": 30,
   "id": "3d9271ab-76f0-4b45-a01d-63738b7ffadd",
   "metadata": {},
   "outputs": [
    {
     "data": {
      "text/plain": [
       "[1, 2, 3, 4, 5, 6, 7, 8, 9, 10, 11]"
      ]
     },
     "execution_count": 30,
     "metadata": {},
     "output_type": "execute_result"
    }
   ],
   "source": [
    "n+[6,7,8,9,10,11]"
   ]
  },
  {
   "cell_type": "code",
   "execution_count": 31,
   "id": "2bc43b33-0d87-4532-8acd-029228b69afd",
   "metadata": {},
   "outputs": [],
   "source": [
    "cubes=[1,8,64,125,215]  # one cube value is wrong here\n",
    "\n",
    "cubes[4]=216 #  Replace the wrong value"
   ]
  },
  {
   "cell_type": "code",
   "execution_count": 32,
   "id": "2fd65d3f-40c4-4f23-bfd1-cd276673c864",
   "metadata": {},
   "outputs": [
    {
     "data": {
      "text/plain": [
       "[1, 8, 64, 125, 216]"
      ]
     },
     "execution_count": 32,
     "metadata": {},
     "output_type": "execute_result"
    }
   ],
   "source": [
    "cubes"
   ]
  },
  {
   "cell_type": "code",
   "execution_count": 34,
   "id": "f18b6dae-5496-48ac-8a14-9dd2720c2833",
   "metadata": {},
   "outputs": [],
   "source": [
    "cubes.append(343) #Add element in the list using append\n"
   ]
  },
  {
   "cell_type": "code",
   "execution_count": 35,
   "id": "96c49747-7dc4-47c4-943e-0f6ce3e90ab2",
   "metadata": {},
   "outputs": [
    {
     "data": {
      "text/plain": [
       "[1, 8, 64, 125, 216, 343]"
      ]
     },
     "execution_count": 35,
     "metadata": {},
     "output_type": "execute_result"
    }
   ],
   "source": [
    "cubes"
   ]
  },
  {
   "cell_type": "code",
   "execution_count": 36,
   "id": "479cd347-5f02-431a-aba5-89728f991cbf",
   "metadata": {},
   "outputs": [],
   "source": [
    "cubes.append(8**3)  #Add element in the list using append "
   ]
  },
  {
   "cell_type": "code",
   "execution_count": 37,
   "id": "6fd49c62-5cdc-4955-be36-72a067a65357",
   "metadata": {},
   "outputs": [
    {
     "data": {
      "text/plain": [
       "[1, 8, 64, 125, 216, 343, 512]"
      ]
     },
     "execution_count": 37,
     "metadata": {},
     "output_type": "execute_result"
    }
   ],
   "source": [
    "cubes"
   ]
  },
  {
   "cell_type": "code",
   "execution_count": 38,
   "id": "658fe168-e1cf-405b-a58d-dbbd9f6961e3",
   "metadata": {},
   "outputs": [],
   "source": [
    "rbg=['red','green','blue']"
   ]
  },
  {
   "cell_type": "code",
   "execution_count": 39,
   "id": "64d485c6-02cd-4f21-8eba-22f884ff9d2c",
   "metadata": {},
   "outputs": [],
   "source": [
    "rbga=rbg"
   ]
  },
  {
   "cell_type": "code",
   "execution_count": 40,
   "id": "259fa995-b6f4-4edc-8261-04cc0c705dc7",
   "metadata": {},
   "outputs": [
    {
     "data": {
      "text/plain": [
       "True"
      ]
     },
     "execution_count": 40,
     "metadata": {},
     "output_type": "execute_result"
    }
   ],
   "source": [
    "id(rbg)==id(rbga)"
   ]
  },
  {
   "cell_type": "code",
   "execution_count": 41,
   "id": "c3986fd1-d883-42f9-a7e6-d0e80cd52798",
   "metadata": {},
   "outputs": [
    {
     "data": {
      "text/plain": [
       "['red', 'green', 'blue']"
      ]
     },
     "execution_count": 41,
     "metadata": {},
     "output_type": "execute_result"
    }
   ],
   "source": [
    "rbg"
   ]
  },
  {
   "cell_type": "code",
   "execution_count": 42,
   "id": "bf49d121-3936-4dab-8762-1c68f54fd15a",
   "metadata": {},
   "outputs": [],
   "source": [
    "rbg.append('mahesh')"
   ]
  },
  {
   "cell_type": "code",
   "execution_count": 43,
   "id": "0e30fa90-f0e2-4b71-a859-146298b826d7",
   "metadata": {},
   "outputs": [
    {
     "data": {
      "text/plain": [
       "['red', 'green', 'blue', 'mahesh']"
      ]
     },
     "execution_count": 43,
     "metadata": {},
     "output_type": "execute_result"
    }
   ],
   "source": [
    "rbg"
   ]
  },
  {
   "cell_type": "code",
   "execution_count": 46,
   "id": "8d2b7fc3-3a24-4f4d-b257-5f9826824698",
   "metadata": {},
   "outputs": [],
   "source": [
    "rbg[1:3]=['a','b','c']"
   ]
  },
  {
   "cell_type": "code",
   "execution_count": 47,
   "id": "ebd3bef9-953d-40b0-973e-13bec1dc78a4",
   "metadata": {},
   "outputs": [
    {
     "data": {
      "text/plain": [
       "['red', 'a', 'b', 'c', 'mahesh']"
      ]
     },
     "execution_count": 47,
     "metadata": {},
     "output_type": "execute_result"
    }
   ],
   "source": [
    "rbg"
   ]
  },
  {
   "cell_type": "code",
   "execution_count": 55,
   "id": "ea45e1ac-e2e7-4dcb-8dcc-c51791f4d9d9",
   "metadata": {},
   "outputs": [],
   "source": [
    "rbg[2:2]=['changed']"
   ]
  },
  {
   "cell_type": "code",
   "execution_count": 56,
   "id": "20d35fbc-24eb-4f9f-8f16-f13e250a6118",
   "metadata": {},
   "outputs": [
    {
     "data": {
      "text/plain": [
       "['red', 'a', 'changed', 'mahi', 'mahi', 'mahi']"
      ]
     },
     "execution_count": 56,
     "metadata": {},
     "output_type": "execute_result"
    }
   ],
   "source": [
    "rbg"
   ]
  },
  {
   "cell_type": "code",
   "execution_count": 57,
   "id": "31d1b52b-bf1f-464c-98c7-ecf90ed58daf",
   "metadata": {},
   "outputs": [
    {
     "data": {
      "text/plain": [
       "'mahi'"
      ]
     },
     "execution_count": 57,
     "metadata": {},
     "output_type": "execute_result"
    }
   ],
   "source": [
    "rbg.pop(3)"
   ]
  },
  {
   "cell_type": "code",
   "execution_count": 58,
   "id": "0eee6f5a-594b-4e70-8ceb-cf799a4fd3a8",
   "metadata": {},
   "outputs": [
    {
     "data": {
      "text/plain": [
       "['red', 'a', 'changed', 'mahi', 'mahi']"
      ]
     },
     "execution_count": 58,
     "metadata": {},
     "output_type": "execute_result"
    }
   ],
   "source": [
    "rbg"
   ]
  },
  {
   "cell_type": "code",
   "execution_count": 59,
   "id": "11e705f4-004b-47ab-8e38-1c318baf2e5e",
   "metadata": {},
   "outputs": [
    {
     "data": {
      "text/plain": [
       "'red'"
      ]
     },
     "execution_count": 59,
     "metadata": {},
     "output_type": "execute_result"
    }
   ],
   "source": [
    "rbg.pop(0)"
   ]
  },
  {
   "cell_type": "code",
   "execution_count": 60,
   "id": "ed4f53e8-0029-49b5-b566-bc1ccedbe602",
   "metadata": {},
   "outputs": [
    {
     "data": {
      "text/plain": [
       "['a', 'changed', 'mahi', 'mahi']"
      ]
     },
     "execution_count": 60,
     "metadata": {},
     "output_type": "execute_result"
    }
   ],
   "source": [
    "rbg"
   ]
  },
  {
   "cell_type": "code",
   "execution_count": 62,
   "id": "410091ec-0b50-4e5c-9258-56798e183dfb",
   "metadata": {},
   "outputs": [
    {
     "data": {
      "text/plain": [
       "['a', 'b', 'c', 'd', 'e', 'f']"
      ]
     },
     "execution_count": 62,
     "metadata": {},
     "output_type": "execute_result"
    }
   ],
   "source": [
    "alphabets=['a','b','c','d','e','f']\n",
    "alphabets"
   ]
  },
  {
   "cell_type": "code",
   "execution_count": 63,
   "id": "c0c05eca-89e9-4417-89ba-d3d44f391137",
   "metadata": {},
   "outputs": [
    {
     "data": {
      "text/plain": [
       "['a', 'b', 'A', 'B', 'C', 'f']"
      ]
     },
     "execution_count": 63,
     "metadata": {},
     "output_type": "execute_result"
    }
   ],
   "source": [
    "alphabets[2:5]=['A','B','C']\n",
    "alphabets"
   ]
  },
  {
   "cell_type": "code",
   "execution_count": 64,
   "id": "5ce1e4a2-7670-4a78-9b63-d480c2264b7c",
   "metadata": {},
   "outputs": [],
   "source": [
    "alphabets.remove('a')"
   ]
  },
  {
   "cell_type": "code",
   "execution_count": 65,
   "id": "abcb2a90-c73f-4808-8172-38f9ed76aa45",
   "metadata": {},
   "outputs": [
    {
     "data": {
      "text/plain": [
       "['b', 'A', 'B', 'C', 'f']"
      ]
     },
     "execution_count": 65,
     "metadata": {},
     "output_type": "execute_result"
    }
   ],
   "source": [
    "alphabets"
   ]
  },
  {
   "cell_type": "code",
   "execution_count": 67,
   "id": "3741f756-8a0a-41b9-a1b9-e355f0fc9ff4",
   "metadata": {},
   "outputs": [],
   "source": [
    "alphabets[2:5]=[]  "
   ]
  },
  {
   "cell_type": "code",
   "execution_count": 68,
   "id": "32de9219-3818-48a3-a071-6ddbe24d6786",
   "metadata": {},
   "outputs": [
    {
     "data": {
      "text/plain": [
       "['b', 'A']"
      ]
     },
     "execution_count": 68,
     "metadata": {},
     "output_type": "execute_result"
    }
   ],
   "source": [
    "alphabets"
   ]
  },
  {
   "cell_type": "code",
   "execution_count": 69,
   "id": "b7ed5410-068b-4392-819b-8f8c6f60063e",
   "metadata": {},
   "outputs": [],
   "source": [
    "alphabets[:]=[] # Remove all the elemnts"
   ]
  },
  {
   "cell_type": "code",
   "execution_count": 70,
   "id": "1c95c724-46d3-463d-9285-a883ba70b3bc",
   "metadata": {},
   "outputs": [
    {
     "data": {
      "text/plain": [
       "[]"
      ]
     },
     "execution_count": 70,
     "metadata": {},
     "output_type": "execute_result"
    }
   ],
   "source": [
    "alphabets"
   ]
  },
  {
   "cell_type": "code",
   "execution_count": 71,
   "id": "d75499e9-99a7-42ef-ac88-e77e6f878c21",
   "metadata": {},
   "outputs": [],
   "source": [
    "n=[1,2,3,4,5]\n",
    "a=[3,4,5]\n",
    "\n",
    "x=[n,a]"
   ]
  },
  {
   "cell_type": "code",
   "execution_count": 72,
   "id": "f51f9a80-b869-4017-87fd-739ed2e75ee2",
   "metadata": {},
   "outputs": [
    {
     "data": {
      "text/plain": [
       "[[1, 2, 3, 4, 5], [3, 4, 5]]"
      ]
     },
     "execution_count": 72,
     "metadata": {},
     "output_type": "execute_result"
    }
   ],
   "source": [
    "x"
   ]
  },
  {
   "cell_type": "code",
   "execution_count": 79,
   "id": "1d0d93f1-3d51-420a-ab9e-bf087aca1c3c",
   "metadata": {},
   "outputs": [
    {
     "data": {
      "text/plain": [
       "3"
      ]
     },
     "execution_count": 79,
     "metadata": {},
     "output_type": "execute_result"
    }
   ],
   "source": [
    "x[0][2]"
   ]
  },
  {
   "cell_type": "code",
   "execution_count": null,
   "id": "980e1c7d-0372-4f63-9188-e075dc4206a7",
   "metadata": {},
   "outputs": [],
   "source": []
  },
  {
   "cell_type": "code",
   "execution_count": null,
   "id": "dc91c9fb-e3d9-41c8-9d92-1ea3bac967cf",
   "metadata": {},
   "outputs": [],
   "source": []
  }
 ],
 "metadata": {
  "kernelspec": {
   "display_name": "Python 3 (ipykernel)",
   "language": "python",
   "name": "python3"
  },
  "language_info": {
   "codemirror_mode": {
    "name": "ipython",
    "version": 3
   },
   "file_extension": ".py",
   "mimetype": "text/x-python",
   "name": "python",
   "nbconvert_exporter": "python",
   "pygments_lexer": "ipython3",
   "version": "3.12.7"
  }
 },
 "nbformat": 4,
 "nbformat_minor": 5
}
