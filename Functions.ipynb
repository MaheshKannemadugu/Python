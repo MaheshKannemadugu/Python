{
 "cells": [
  {
   "cell_type": "markdown",
   "id": "e8dc3411-b30d-442e-b45b-35d02c995007",
   "metadata": {},
   "source": [
    "A function is a block of code which only runs when it is called.\n",
    "\n",
    "You can pass data, known as parameters, into a function.\n",
    "\n",
    "A function can return data as a result."
   ]
  },
  {
   "cell_type": "markdown",
   "id": "60f978f1-ee46-4fcd-9d8e-7d2e29685216",
   "metadata": {},
   "source": [
    "# In Python a function is defined using the def keyword:"
   ]
  },
  {
   "cell_type": "code",
   "execution_count": 1,
   "id": "8646bdc5-fdf8-4e2d-9bb3-b3083f50388d",
   "metadata": {},
   "outputs": [
    {
     "name": "stdout",
     "output_type": "stream",
     "text": [
      "this my function\n"
     ]
    }
   ],
   "source": [
    "def my_function():\n",
    "    print(\"this my function\")\n",
    "my_function()    "
   ]
  },
  {
   "cell_type": "markdown",
   "id": "81ee65b3-6a65-465f-b8f4-1563d47f9799",
   "metadata": {},
   "source": [
    "# Arguments"
   ]
  },
  {
   "cell_type": "markdown",
   "id": "a0e96577-7e83-4d3f-acbc-5312362c3797",
   "metadata": {},
   "source": [
    "Information can be passed into functions as arguments.\n",
    "\n",
    "Arguments are specified after the function name, inside the parentheses. You can add as many arguments as you want, just separate them with a comma.\n",
    "\n",
    "The following example has a function with one argument (my_self). When the function is called, we pass along a first name, which is used inside the function to print the full name:"
   ]
  },
  {
   "cell_type": "code",
   "execution_count": 2,
   "id": "9e51af16-3375-4b9f-947e-ab115fcd215e",
   "metadata": {},
   "outputs": [
    {
     "name": "stdout",
     "output_type": "stream",
     "text": [
      "Email\tMahesh\n",
      "age\tMahesh\n",
      "Surname\tMahesh\n"
     ]
    }
   ],
   "source": [
    "def my_details(my_self):\n",
    "    print (my_self + \"Mahesh\")\n",
    "\n",
    "my_details(\"Email\\t\")\n",
    "my_details(\"age\\t\")\n",
    "my_details(\"Surname\\t\")"
   ]
  },
  {
   "cell_type": "markdown",
   "id": "1cb71311-3860-4dfd-a783-7c1822062956",
   "metadata": {},
   "source": [
    "# Number of Arguments"
   ]
  },
  {
   "cell_type": "markdown",
   "id": "e1f9e00c-1b69-41e3-9861-53486f1ef99e",
   "metadata": {},
   "source": [
    "By default, a function must be called with the correct number of arguments.\n",
    "Meaning that if your function expects 2 arguments, you have to call the function with 2 arguments, not more, and not less."
   ]
  },
  {
   "cell_type": "markdown",
   "id": "1bf40061-53b5-4903-b160-056efe877aa5",
   "metadata": {},
   "source": [
    "# Arbitrary Arguments, *args"
   ]
  },
  {
   "cell_type": "markdown",
   "id": "01790cce-9214-4ffc-94aa-4fa31c8adf82",
   "metadata": {},
   "source": [
    "If you do not know how many arguments that will be passed into your function, add a * before the parameter name in the function definition.\n",
    "\n",
    "This way the function will receive a tuple of arguments, and can access the items accordingly:"
   ]
  },
  {
   "cell_type": "code",
   "execution_count": 3,
   "id": "58446469-4c4f-41d4-aee6-e3ca079b015b",
   "metadata": {},
   "outputs": [
    {
     "name": "stdout",
     "output_type": "stream",
     "text": [
      "this veggie good for health\tbeetroot\n"
     ]
    }
   ],
   "source": [
    "def vegetables(*veggies):\n",
    "    print(\"this veggie good for health\\t\"  + veggies[4])\n",
    "vegetables(\"tomato\",\"brinjal\",\"beans\",\"onions\",\"beetroot\")    "
   ]
  },
  {
   "cell_type": "markdown",
   "id": "bf420309-a355-4825-bad0-13e1d4abc484",
   "metadata": {},
   "source": [
    "# Keyword Arguments"
   ]
  },
  {
   "cell_type": "markdown",
   "id": "a3833b50-38fa-4b29-b905-fa5e092a1e16",
   "metadata": {},
   "source": [
    "You can also send arguments with the key = value syntax.\n",
    "\n",
    "This way the order of the arguments does not matter."
   ]
  },
  {
   "cell_type": "code",
   "execution_count": 5,
   "id": "44c96d21-fce2-4263-862e-9fa26ebfd412",
   "metadata": {},
   "outputs": [
    {
     "name": "stdout",
     "output_type": "stream",
     "text": [
      "the bread of the dog \tShih Tzu\n"
     ]
    }
   ],
   "source": [
    "def my_dog(dog1,dog2,dog3,dog4,dog5):\n",
    "    print(\"the bread of the dog \\t\" + dog5)\n",
    "my_dog(dog1=\"French Bulldog\",dog2=\"Golden Retriever\",dog3=\"Golden Retriever\",dog4=\"GermanShepherd\",dog5=\"Shih Tzu\")\n"
   ]
  },
  {
   "cell_type": "markdown",
   "id": "2e668b94-cc12-40a9-aeff-c57e92780743",
   "metadata": {},
   "source": [
    "# Arbitrary Keyword Arguments, **kwargs"
   ]
  },
  {
   "cell_type": "markdown",
   "id": "6c7c8803-2b16-485e-9cc1-0dc44a46fce4",
   "metadata": {},
   "source": [
    "If you do not know how many keyword arguments that will be passed into your function, add two asterisk: ** before the parameter name in the function definition.\n",
    "\n",
    "This way the function will receive a dictionary of arguments, and can access the items accordingly:"
   ]
  },
  {
   "cell_type": "code",
   "execution_count": 7,
   "id": "d6c09519-06db-4186-a085-415d97342248",
   "metadata": {},
   "outputs": [
    {
     "name": "stdout",
     "output_type": "stream",
     "text": [
      "His last name is Refsnes\n"
     ]
    }
   ],
   "source": [
    "def my_function(**kid):\n",
    "  print(\"His last name is \" + kid[\"lname\"])\n",
    "\n",
    "my_function(fname = \"Tobias\", lname = \"Refsnes\")"
   ]
  },
  {
   "cell_type": "markdown",
   "id": "570b4bad-2c17-45c1-8731-029e4758cc87",
   "metadata": {},
   "source": [
    "# Default Parameter Value"
   ]
  },
  {
   "cell_type": "code",
   "execution_count": 15,
   "id": "cdd722ac-4e2d-4793-9fe7-14188ae0ac1e",
   "metadata": {},
   "outputs": [
    {
     "name": "stdout",
     "output_type": "stream",
     "text": [
      "I like\tMaroon\n",
      "I like\tRed\n",
      "I like\tblue\n",
      "I like\tYellow\n",
      "I like\tGreen\n",
      "I like\tWhite\n",
      "I like\tpink\n",
      "I like\torange\n",
      "I like\tblack\n"
     ]
    }
   ],
   "source": [
    "def my_colors(country='blue'):\n",
    "    print(\"I like\\t\" +country)\n",
    "my_colors(\"Maroon\")\n",
    "my_colors(\"Red\")\n",
    "my_colors()\n",
    "my_colors(\"Yellow\")\n",
    "my_colors(\"Green\")\n",
    "my_colors(\"White\")\n",
    "my_colors(\"pink\")\n",
    "my_colors(\"orange\")\n",
    "my_colors(\"black\")"
   ]
  },
  {
   "cell_type": "markdown",
   "id": "49b7ff8c-cb27-4ada-b071-2dbfbbab37c4",
   "metadata": {},
   "source": [
    "# Return Values"
   ]
  },
  {
   "cell_type": "code",
   "execution_count": 21,
   "id": "cec57fa2-0a48-4b54-85e9-0e24e16109f7",
   "metadata": {},
   "outputs": [
    {
     "name": "stdout",
     "output_type": "stream",
     "text": [
      "15\n",
      "20\n",
      "45\n"
     ]
    }
   ],
   "source": [
    "def multi(multi):\n",
    "    return 5 * multi\n",
    "print(multi(3))\n",
    "print(multi(4))\n",
    "print(multi(9))"
   ]
  },
  {
   "cell_type": "markdown",
   "id": "922ebf0e-910b-45a5-ba10-eac13f4eb1ae",
   "metadata": {},
   "source": [
    "# The pass Statement\n",
    "\n",
    "function definitions cannot be empty, but if you for some reason have a function definition with no content, put in the pass statement to avoid getting an error."
   ]
  },
  {
   "cell_type": "code",
   "execution_count": 22,
   "id": "0cc82aed-c5d8-482d-9b86-8ee59639f546",
   "metadata": {},
   "outputs": [],
   "source": [
    "def my_function():\n",
    "    pass"
   ]
  },
  {
   "cell_type": "markdown",
   "id": "1c79f77d-113d-4883-a36b-82f0064b901a",
   "metadata": {},
   "source": [
    "# Positional-Only Arguments\n",
    "\n",
    "You can specify that a function can have ONLY positional arguments, or ONLY keyword arguments.\n",
    "\n",
    "To specify that a function can have only positional arguments, add , / after the arguments:"
   ]
  },
  {
   "cell_type": "code",
   "execution_count": 23,
   "id": "3bea915c-eb48-4d1c-9d37-d6a8cd3f28e1",
   "metadata": {},
   "outputs": [
    {
     "name": "stdout",
     "output_type": "stream",
     "text": [
      "3\n"
     ]
    }
   ],
   "source": [
    "def my_function(x, /):\n",
    "  print(x)\n",
    "\n",
    "my_function(3)"
   ]
  },
  {
   "cell_type": "markdown",
   "id": "4cca7754-2e7f-4a4b-bfd8-4fc2edee9c05",
   "metadata": {},
   "source": [
    "# Recursion\n",
    "\n",
    "Python also accepts function recursion, which means a defined function can call itself.\n",
    "\n",
    "Recursion is a common mathematical and programming concept. It means that a function calls itself. This has the benefit of meaning that you can loop through data to reach a result.\n",
    "\n",
    "The developer should be very careful with recursion as it can be quite easy to slip into writing a function which never terminates, or one that uses excess amounts of memory or processor power. However, when written correctly recursion can be a very efficient and mathematically-elegant approach to programming.\n",
    "\n",
    "In this example, tri_recursion() is a function that we have defined to call itself (\"recurse\"). We use the k variable as the data, which decrements (-1) every time we recurse. The recursion ends when the condition is not greater than 0 (i.e. when it is 0).\n",
    "\n",
    "To a new developer it can take some time to work out how exactly this works, best way to find out is by testing and modifying it."
   ]
  },
  {
   "cell_type": "code",
   "execution_count": 34,
   "id": "8740282d-108b-4620-8fbd-b4ef4c00ea9f",
   "metadata": {},
   "outputs": [
    {
     "data": {
      "text/plain": [
       "<function __main__.palindrome(n)>"
      ]
     },
     "execution_count": 34,
     "metadata": {},
     "output_type": "execute_result"
    }
   ],
   "source": [
    "def palindrome(n):\n",
    "    original=n\n",
    "    t=0\n",
    "    while n>0:\n",
    "        digit=n%10\n",
    "        t=t*10+digit\n",
    "        n=n//10\n",
    "    if original==t:\n",
    "        print(\"palindrome\")\n",
    "    else:\n",
    "        print(\"not palindrome\")   \n",
    "palindrome"
   ]
  },
  {
   "cell_type": "code",
   "execution_count": null,
   "id": "dbe6a189-de26-46f9-a4d9-4f031bf7dc81",
   "metadata": {},
   "outputs": [],
   "source": []
  }
 ],
 "metadata": {
  "kernelspec": {
   "display_name": "Python 3 (ipykernel)",
   "language": "python",
   "name": "python3"
  },
  "language_info": {
   "codemirror_mode": {
    "name": "ipython",
    "version": 3
   },
   "file_extension": ".py",
   "mimetype": "text/x-python",
   "name": "python",
   "nbconvert_exporter": "python",
   "pygments_lexer": "ipython3",
   "version": "3.12.7"
  }
 },
 "nbformat": 4,
 "nbformat_minor": 5
}
