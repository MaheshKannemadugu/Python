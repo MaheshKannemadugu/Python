{
 "cells": [
  {
   "cell_type": "code",
   "execution_count": 1,
   "id": "c3c8d1df-e7d6-49ae-b7a1-63e9cec6b7e0",
   "metadata": {},
   "outputs": [
    {
     "name": "stdout",
     "output_type": "stream",
     "text": [
      "Collecting pdf2docx\n",
      "  Downloading pdf2docx-0.5.8-py3-none-any.whl.metadata (3.2 kB)\n",
      "Collecting PyMuPDF>=1.19.0 (from pdf2docx)\n",
      "  Downloading PyMuPDF-1.24.14-cp39-abi3-win_amd64.whl.metadata (3.4 kB)\n",
      "Collecting python-docx>=0.8.10 (from pdf2docx)\n",
      "  Downloading python_docx-1.1.2-py3-none-any.whl.metadata (2.0 kB)\n",
      "Requirement already satisfied: fonttools>=4.24.0 in c:\\users\\d949496\\appdata\\local\\anaconda3\\lib\\site-packages (from pdf2docx) (4.51.0)\n",
      "Requirement already satisfied: numpy>=1.17.2 in c:\\users\\d949496\\appdata\\local\\anaconda3\\lib\\site-packages (from pdf2docx) (1.26.4)\n",
      "Requirement already satisfied: opencv-python-headless>=4.5 in c:\\users\\d949496\\appdata\\local\\anaconda3\\lib\\site-packages (from pdf2docx) (4.10.0.84)\n",
      "Collecting fire>=0.3.0 (from pdf2docx)\n",
      "  Downloading fire-0.7.0.tar.gz (87 kB)\n",
      "  Preparing metadata (setup.py): started\n",
      "  Preparing metadata (setup.py): finished with status 'done'\n",
      "Collecting termcolor (from fire>=0.3.0->pdf2docx)\n",
      "  Downloading termcolor-2.5.0-py3-none-any.whl.metadata (6.1 kB)\n",
      "Requirement already satisfied: lxml>=3.1.0 in c:\\users\\d949496\\appdata\\local\\anaconda3\\lib\\site-packages (from python-docx>=0.8.10->pdf2docx) (5.2.1)\n",
      "Requirement already satisfied: typing-extensions>=4.9.0 in c:\\users\\d949496\\appdata\\local\\anaconda3\\lib\\site-packages (from python-docx>=0.8.10->pdf2docx) (4.11.0)\n",
      "Downloading pdf2docx-0.5.8-py3-none-any.whl (132 kB)\n",
      "Downloading PyMuPDF-1.24.14-cp39-abi3-win_amd64.whl (16.3 MB)\n",
      "   ---------------------------------------- 0.0/16.3 MB ? eta -:--:--\n",
      "   - -------------------------------------- 0.8/16.3 MB 4.2 MB/s eta 0:00:04\n",
      "   --- ------------------------------------ 1.6/16.3 MB 4.0 MB/s eta 0:00:04\n",
      "   ------ --------------------------------- 2.6/16.3 MB 4.3 MB/s eta 0:00:04\n",
      "   --------- ------------------------------ 3.7/16.3 MB 4.4 MB/s eta 0:00:03\n",
      "   ---------- ----------------------------- 4.5/16.3 MB 4.3 MB/s eta 0:00:03\n",
      "   ------------- -------------------------- 5.5/16.3 MB 4.5 MB/s eta 0:00:03\n",
      "   ---------------- ----------------------- 6.6/16.3 MB 4.6 MB/s eta 0:00:03\n",
      "   ----------------- ---------------------- 7.1/16.3 MB 4.5 MB/s eta 0:00:03\n",
      "   ------------------ --------------------- 7.6/16.3 MB 4.2 MB/s eta 0:00:03\n",
      "   --------------------- ------------------ 8.7/16.3 MB 4.2 MB/s eta 0:00:02\n",
      "   ---------------------- ----------------- 9.2/16.3 MB 4.0 MB/s eta 0:00:02\n",
      "   ----------------------- ---------------- 9.4/16.3 MB 4.0 MB/s eta 0:00:02\n",
      "   ----------------------- ---------------- 9.7/16.3 MB 3.7 MB/s eta 0:00:02\n",
      "   ------------------------- -------------- 10.5/16.3 MB 3.6 MB/s eta 0:00:02\n",
      "   --------------------------- ------------ 11.0/16.3 MB 3.5 MB/s eta 0:00:02\n",
      "   ---------------------------- ----------- 11.5/16.3 MB 3.5 MB/s eta 0:00:02\n",
      "   ----------------------------- ---------- 12.1/16.3 MB 3.4 MB/s eta 0:00:02\n",
      "   ------------------------------- -------- 12.8/16.3 MB 3.4 MB/s eta 0:00:01\n",
      "   -------------------------------- ------- 13.1/16.3 MB 3.4 MB/s eta 0:00:01\n",
      "   --------------------------------- ------ 13.6/16.3 MB 3.3 MB/s eta 0:00:01\n",
      "   ----------------------------------- ---- 14.4/16.3 MB 3.3 MB/s eta 0:00:01\n",
      "   ------------------------------------- -- 15.2/16.3 MB 3.3 MB/s eta 0:00:01\n",
      "   -------------------------------------- - 15.7/16.3 MB 3.3 MB/s eta 0:00:01\n",
      "   ---------------------------------------- 16.3/16.3 MB 3.3 MB/s eta 0:00:00\n",
      "Downloading python_docx-1.1.2-py3-none-any.whl (244 kB)\n",
      "Downloading termcolor-2.5.0-py3-none-any.whl (7.8 kB)\n",
      "Building wheels for collected packages: fire\n",
      "  Building wheel for fire (setup.py): started\n",
      "  Building wheel for fire (setup.py): finished with status 'done'\n",
      "  Created wheel for fire: filename=fire-0.7.0-py3-none-any.whl size=114262 sha256=9d157d2ac43c1c13bb9da69a41f677a175846235d411c1d61031f2ad27b0c668\n",
      "  Stored in directory: c:\\users\\d949496\\appdata\\local\\pip\\cache\\wheels\\9e\\5b\\45\\29f72e55d87a29426b04b3cfdf20325c079eb97ab74f59017d\n",
      "Successfully built fire\n",
      "Installing collected packages: termcolor, python-docx, PyMuPDF, fire, pdf2docx\n",
      "Successfully installed PyMuPDF-1.24.14 fire-0.7.0 pdf2docx-0.5.8 python-docx-1.1.2 termcolor-2.5.0\n",
      "Note: you may need to restart the kernel to use updated packages.\n"
     ]
    }
   ],
   "source": [
    "pip install pdf2docx"
   ]
  },
  {
   "cell_type": "code",
   "execution_count": 6,
   "id": "7809258a-c29f-4fdb-a9e8-e5e48c6b30d4",
   "metadata": {},
   "outputs": [],
   "source": [
    "from pdf2docx import Converter"
   ]
  },
  {
   "cell_type": "code",
   "execution_count": 9,
   "id": "8bfea25c-bc42-4cbf-a68d-2815250e5b7b",
   "metadata": {},
   "outputs": [
    {
     "name": "stderr",
     "output_type": "stream",
     "text": [
      "[INFO] Start to convert Form11Revised.pdf\n",
      "[INFO] \u001b[1;36m[1/4] Opening document...\u001b[0m\n",
      "[INFO] \u001b[1;36m[2/4] Analyzing document...\u001b[0m\n",
      "[INFO] \u001b[1;36m[3/4] Parsing pages...\u001b[0m\n",
      "[INFO] (1/1) Page 1\n",
      "[INFO] \u001b[1;36m[4/4] Creating pages...\u001b[0m\n",
      "[INFO] (1/1) Page 1\n",
      "[INFO] Terminated in 0.24s.\n"
     ]
    }
   ],
   "source": [
    "pdf_file='Form11Revised.pdf'\n",
    "docx_file='form.docx'\n",
    "cv=Converter(pdf_file)\n",
    "cv.convert(docx_file)\n",
    "cv.close()"
   ]
  },
  {
   "cell_type": "code",
   "execution_count": null,
   "id": "a0fd7c05-62be-460c-bdc8-f1aad517dbfe",
   "metadata": {},
   "outputs": [],
   "source": []
  }
 ],
 "metadata": {
  "kernelspec": {
   "display_name": "Python 3 (ipykernel)",
   "language": "python",
   "name": "python3"
  },
  "language_info": {
   "codemirror_mode": {
    "name": "ipython",
    "version": 3
   },
   "file_extension": ".py",
   "mimetype": "text/x-python",
   "name": "python",
   "nbconvert_exporter": "python",
   "pygments_lexer": "ipython3",
   "version": "3.12.7"
  }
 },
 "nbformat": 4,
 "nbformat_minor": 5
}
