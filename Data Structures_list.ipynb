{
 "cells": [
  {
   "cell_type": "markdown",
   "id": "3c4c485d-c13d-483d-81ee-12a46697e707",
   "metadata": {},
   "source": [
    "# append"
   ]
  },
  {
   "cell_type": "code",
   "execution_count": 1,
   "id": "1d1229de-131e-4782-adda-dd65efed183a",
   "metadata": {},
   "outputs": [
    {
     "data": {
      "text/plain": [
       "['name', 'data', 'structures', 'practice', 'help']"
      ]
     },
     "execution_count": 1,
     "metadata": {},
     "output_type": "execute_result"
    }
   ],
   "source": [
    "x=['name','data','structures','practice','help']\n",
    "x"
   ]
  },
  {
   "cell_type": "code",
   "execution_count": 3,
   "id": "378f24b4-114d-4384-aa94-206728bafe23",
   "metadata": {},
   "outputs": [],
   "source": [
    "x.append(2) # appending number"
   ]
  },
  {
   "cell_type": "code",
   "execution_count": 4,
   "id": "35c30ee8-b13e-4c8b-84f2-8e4381a56e0c",
   "metadata": {},
   "outputs": [
    {
     "data": {
      "text/plain": [
       "['name', 'data', 'structures', 'practice', 'help', 2]"
      ]
     },
     "execution_count": 4,
     "metadata": {},
     "output_type": "execute_result"
    }
   ],
   "source": [
    "x"
   ]
  },
  {
   "cell_type": "code",
   "execution_count": 5,
   "id": "420d7471-0ba5-4a1c-a430-2eee0331ab91",
   "metadata": {},
   "outputs": [],
   "source": [
    "x.append('abc') # appending string "
   ]
  },
  {
   "cell_type": "code",
   "execution_count": 6,
   "id": "fde7eaf2-4a50-4c89-89f6-1af45edbf4ec",
   "metadata": {},
   "outputs": [
    {
     "data": {
      "text/plain": [
       "['name', 'data', 'structures', 'practice', 'help', 2, 'abc']"
      ]
     },
     "execution_count": 6,
     "metadata": {},
     "output_type": "execute_result"
    }
   ],
   "source": [
    "x"
   ]
  },
  {
   "cell_type": "code",
   "execution_count": 9,
   "id": "1b24a398-1cb8-4b74-8fde-f31e6208cf12",
   "metadata": {},
   "outputs": [],
   "source": [
    "x[4:]=['baseplus'] # adding the value where required"
   ]
  },
  {
   "cell_type": "code",
   "execution_count": 10,
   "id": "d51c159d-ca80-4843-a29f-3fa692fa6036",
   "metadata": {},
   "outputs": [
    {
     "data": {
      "text/plain": [
       "['name', 'data', 'structures', 'practice', 'baseplus']"
      ]
     },
     "execution_count": 10,
     "metadata": {},
     "output_type": "execute_result"
    }
   ],
   "source": [
    "x"
   ]
  },
  {
   "cell_type": "markdown",
   "id": "bcb0de7b-c5df-447d-b1b9-3507abc0d25f",
   "metadata": {},
   "source": [
    "# Extend"
   ]
  },
  {
   "cell_type": "code",
   "execution_count": 13,
   "id": "317f5859-23c6-42b9-a534-d5b0b26fdc39",
   "metadata": {},
   "outputs": [
    {
     "data": {
      "text/plain": [
       "['fruits', 'vegetables', 'green leaves']"
      ]
     },
     "execution_count": 13,
     "metadata": {},
     "output_type": "execute_result"
    }
   ],
   "source": [
    "y=['fruits','vegetables','green leaves']\n",
    "y"
   ]
  },
  {
   "cell_type": "code",
   "execution_count": 15,
   "id": "b2186135-b94a-4ed1-880b-cd1f1cbd9a2c",
   "metadata": {},
   "outputs": [],
   "source": [
    "x.extend(y)  # Extend variable "
   ]
  },
  {
   "cell_type": "code",
   "execution_count": 16,
   "id": "f0623ef4-c627-424b-af65-f12264a19aa7",
   "metadata": {},
   "outputs": [
    {
     "data": {
      "text/plain": [
       "['name',\n",
       " 'data',\n",
       " 'structures',\n",
       " 'practice',\n",
       " 'baseplus',\n",
       " 'fruits',\n",
       " 'vegetables',\n",
       " 'green leaves']"
      ]
     },
     "execution_count": 16,
     "metadata": {},
     "output_type": "execute_result"
    }
   ],
   "source": [
    "x"
   ]
  },
  {
   "cell_type": "code",
   "execution_count": 17,
   "id": "39a04bf4-8841-4a31-ab63-7e8e19a7849c",
   "metadata": {},
   "outputs": [],
   "source": [
    "y.extend(x)"
   ]
  },
  {
   "cell_type": "code",
   "execution_count": 18,
   "id": "1faad4ba-8529-485a-9f4e-3210b902ab2d",
   "metadata": {},
   "outputs": [
    {
     "data": {
      "text/plain": [
       "['fruits',\n",
       " 'vegetables',\n",
       " 'green leaves',\n",
       " 'name',\n",
       " 'data',\n",
       " 'structures',\n",
       " 'practice',\n",
       " 'baseplus',\n",
       " 'fruits',\n",
       " 'vegetables',\n",
       " 'green leaves']"
      ]
     },
     "execution_count": 18,
     "metadata": {},
     "output_type": "execute_result"
    }
   ],
   "source": [
    "y"
   ]
  },
  {
   "cell_type": "code",
   "execution_count": 19,
   "id": "3e389983-9a4f-4430-be26-4473dd52cb5b",
   "metadata": {},
   "outputs": [
    {
     "data": {
      "text/plain": [
       "8"
      ]
     },
     "execution_count": 19,
     "metadata": {},
     "output_type": "execute_result"
    }
   ],
   "source": [
    "len(x)"
   ]
  },
  {
   "cell_type": "code",
   "execution_count": 20,
   "id": "a27fbc2c-8ae3-4ed8-b3e0-5d1a2a7aaf68",
   "metadata": {},
   "outputs": [
    {
     "data": {
      "text/plain": [
       "11"
      ]
     },
     "execution_count": 20,
     "metadata": {},
     "output_type": "execute_result"
    }
   ],
   "source": [
    "len(y)"
   ]
  },
  {
   "cell_type": "markdown",
   "id": "59bdd92a-1fca-4523-9a17-1a0083db0f31",
   "metadata": {},
   "source": [
    "# Insert"
   ]
  },
  {
   "cell_type": "code",
   "execution_count": 21,
   "id": "c21e368a-2e32-47a8-b061-5aa2ea3cf7ba",
   "metadata": {},
   "outputs": [
    {
     "data": {
      "text/plain": [
       "['fruits',\n",
       " 'vegetables',\n",
       " 'green leaves',\n",
       " 'name',\n",
       " 'data',\n",
       " 'structures',\n",
       " 'practice',\n",
       " 'baseplus',\n",
       " 'fruits',\n",
       " 'vegetables',\n",
       " 'green leaves']"
      ]
     },
     "execution_count": 21,
     "metadata": {},
     "output_type": "execute_result"
    }
   ],
   "source": [
    "y"
   ]
  },
  {
   "cell_type": "code",
   "execution_count": 22,
   "id": "0fc2dbc9-49ab-491b-8068-d7f66c6172c9",
   "metadata": {},
   "outputs": [],
   "source": [
    "y.insert(1,'dry_fruits')"
   ]
  },
  {
   "cell_type": "code",
   "execution_count": 23,
   "id": "f9cc9f04-3d37-4d05-aebb-31c3444b1b20",
   "metadata": {},
   "outputs": [
    {
     "data": {
      "text/plain": [
       "['fruits',\n",
       " 'dry_fruits',\n",
       " 'vegetables',\n",
       " 'green leaves',\n",
       " 'name',\n",
       " 'data',\n",
       " 'structures',\n",
       " 'practice',\n",
       " 'baseplus',\n",
       " 'fruits',\n",
       " 'vegetables',\n",
       " 'green leaves']"
      ]
     },
     "execution_count": 23,
     "metadata": {},
     "output_type": "execute_result"
    }
   ],
   "source": [
    "y"
   ]
  },
  {
   "cell_type": "code",
   "execution_count": 30,
   "id": "4dc796bb-f9c2-4b49-9311-3f2661433abe",
   "metadata": {},
   "outputs": [],
   "source": [
    "y.insert(3,'Eggs') "
   ]
  },
  {
   "cell_type": "code",
   "execution_count": 31,
   "id": "615eb100-a472-467b-b434-fdb310825d77",
   "metadata": {},
   "outputs": [
    {
     "data": {
      "text/plain": [
       "['fruits',\n",
       " 'dry_fruits',\n",
       " 'vegetables',\n",
       " 'Eggs',\n",
       " 'Eggs',\n",
       " 'Eggs',\n",
       " 'green leaves',\n",
       " 'name',\n",
       " 'data',\n",
       " 'structures',\n",
       " 'practice',\n",
       " 'baseplus',\n",
       " 'fruits',\n",
       " 'vegetables',\n",
       " 'green leaves']"
      ]
     },
     "execution_count": 31,
     "metadata": {},
     "output_type": "execute_result"
    }
   ],
   "source": [
    "y"
   ]
  },
  {
   "cell_type": "markdown",
   "id": "01884593-5861-42aa-bc48-0170952410f7",
   "metadata": {},
   "source": [
    "# Remove"
   ]
  },
  {
   "cell_type": "code",
   "execution_count": 32,
   "id": "67adf9e5-784a-4832-ad90-bcbda5430e49",
   "metadata": {},
   "outputs": [
    {
     "data": {
      "text/plain": [
       "['fruits',\n",
       " 'dry_fruits',\n",
       " 'vegetables',\n",
       " 'Eggs',\n",
       " 'Eggs',\n",
       " 'Eggs',\n",
       " 'green leaves',\n",
       " 'name',\n",
       " 'data',\n",
       " 'structures',\n",
       " 'practice',\n",
       " 'baseplus',\n",
       " 'fruits',\n",
       " 'vegetables',\n",
       " 'green leaves']"
      ]
     },
     "execution_count": 32,
     "metadata": {},
     "output_type": "execute_result"
    }
   ],
   "source": [
    "y"
   ]
  },
  {
   "cell_type": "code",
   "execution_count": 41,
   "id": "462a345d-4354-4413-9974-7fe7c5adcd31",
   "metadata": {},
   "outputs": [],
   "source": [
    "y.remove('data')"
   ]
  },
  {
   "cell_type": "code",
   "execution_count": 42,
   "id": "e13e50a2-72c4-4453-a618-c78d459f9b5c",
   "metadata": {},
   "outputs": [
    {
     "data": {
      "text/plain": [
       "['fruits',\n",
       " 'dry_fruits',\n",
       " 'vegetables',\n",
       " 'green leaves',\n",
       " 'name',\n",
       " 'structures',\n",
       " 'practice',\n",
       " 'baseplus',\n",
       " 'fruits',\n",
       " 'vegetables',\n",
       " 'green leaves']"
      ]
     },
     "execution_count": 42,
     "metadata": {},
     "output_type": "execute_result"
    }
   ],
   "source": [
    "y"
   ]
  },
  {
   "cell_type": "markdown",
   "id": "08df0403-b812-4e2c-8ee8-c9fda7941a52",
   "metadata": {},
   "source": [
    "# POP Remove the item at the given position in the list, and return it."
   ]
  },
  {
   "cell_type": "code",
   "execution_count": 43,
   "id": "64dc0098-4434-4238-8256-668bf24001e9",
   "metadata": {},
   "outputs": [
    {
     "data": {
      "text/plain": [
       "['fruits',\n",
       " 'dry_fruits',\n",
       " 'vegetables',\n",
       " 'green leaves',\n",
       " 'name',\n",
       " 'structures',\n",
       " 'practice',\n",
       " 'baseplus',\n",
       " 'fruits',\n",
       " 'vegetables',\n",
       " 'green leaves']"
      ]
     },
     "execution_count": 43,
     "metadata": {},
     "output_type": "execute_result"
    }
   ],
   "source": [
    "y"
   ]
  },
  {
   "cell_type": "code",
   "execution_count": 44,
   "id": "e47dd4c2-9da0-4f6a-b3b6-dc72cf767ca0",
   "metadata": {},
   "outputs": [
    {
     "data": {
      "text/plain": [
       "'dry_fruits'"
      ]
     },
     "execution_count": 44,
     "metadata": {},
     "output_type": "execute_result"
    }
   ],
   "source": [
    "y.pop(1)  #"
   ]
  },
  {
   "cell_type": "code",
   "execution_count": 46,
   "id": "f40d2870-3562-4a6f-98dd-a46a2b3a34ef",
   "metadata": {},
   "outputs": [
    {
     "data": {
      "text/plain": [
       "['fruits',\n",
       " 'vegetables',\n",
       " 'green leaves',\n",
       " 'name',\n",
       " 'structures',\n",
       " 'practice',\n",
       " 'baseplus',\n",
       " 'fruits',\n",
       " 'vegetables',\n",
       " 'green leaves']"
      ]
     },
     "execution_count": 46,
     "metadata": {},
     "output_type": "execute_result"
    }
   ],
   "source": [
    "y"
   ]
  },
  {
   "cell_type": "markdown",
   "id": "11ff2114-1009-43b9-a593-d2ce4f220c13",
   "metadata": {},
   "source": [
    "# Clear "
   ]
  },
  {
   "cell_type": "code",
   "execution_count": 57,
   "id": "da9db6be-f865-4314-b503-580ae379c9f5",
   "metadata": {},
   "outputs": [
    {
     "data": {
      "text/plain": [
       "[]"
      ]
     },
     "execution_count": 57,
     "metadata": {},
     "output_type": "execute_result"
    }
   ],
   "source": [
    "y"
   ]
  },
  {
   "cell_type": "code",
   "execution_count": 51,
   "id": "f3f2ffe4-1def-44df-867c-2264087e2efa",
   "metadata": {},
   "outputs": [],
   "source": [
    "y.clear() #Remove all items from the list. Similar to del"
   ]
  },
  {
   "cell_type": "code",
   "execution_count": 52,
   "id": "3d13193e-9aa1-494c-b11b-d3f6bfd739b3",
   "metadata": {},
   "outputs": [
    {
     "data": {
      "text/plain": [
       "[]"
      ]
     },
     "execution_count": 52,
     "metadata": {},
     "output_type": "execute_result"
    }
   ],
   "source": [
    "y"
   ]
  },
  {
   "cell_type": "markdown",
   "id": "a639c0a0-73f9-4c32-bdd3-3a76aa8a0bd2",
   "metadata": {},
   "source": [
    "# Index"
   ]
  },
  {
   "cell_type": "code",
   "execution_count": 75,
   "id": "2ee37ee0-3662-494f-8b7c-2018e09d2581",
   "metadata": {},
   "outputs": [],
   "source": [
    "x. append('name')"
   ]
  },
  {
   "cell_type": "code",
   "execution_count": 76,
   "id": "3f97d884-2f3f-4313-890d-7a92dfa03b70",
   "metadata": {},
   "outputs": [
    {
     "data": {
      "text/plain": [
       "['name',\n",
       " 'data',\n",
       " 'structures',\n",
       " 'practice',\n",
       " 'baseplus',\n",
       " 'fruits',\n",
       " 'vegetables',\n",
       " 'green leaves',\n",
       " 'name']"
      ]
     },
     "execution_count": 76,
     "metadata": {},
     "output_type": "execute_result"
    }
   ],
   "source": [
    "x"
   ]
  },
  {
   "cell_type": "code",
   "execution_count": 64,
   "id": "e3809989-559c-417c-bdd8-7f9a2d7ba240",
   "metadata": {},
   "outputs": [],
   "source": [
    "index=x.index('data') # postion of the element"
   ]
  },
  {
   "cell_type": "code",
   "execution_count": 65,
   "id": "b9aee431-94c8-430c-b1e4-f7925eae1806",
   "metadata": {},
   "outputs": [
    {
     "data": {
      "text/plain": [
       "1"
      ]
     },
     "execution_count": 65,
     "metadata": {},
     "output_type": "execute_result"
    }
   ],
   "source": [
    "index"
   ]
  },
  {
   "cell_type": "code",
   "execution_count": 66,
   "id": "dfca2dd5-a943-4ac4-9f2a-29fcd12375ba",
   "metadata": {},
   "outputs": [],
   "source": [
    "index=x.index('fruits')"
   ]
  },
  {
   "cell_type": "code",
   "execution_count": 67,
   "id": "4a75abb1-cdc3-4af7-bc6c-6d609cdf24ff",
   "metadata": {},
   "outputs": [
    {
     "data": {
      "text/plain": [
       "5"
      ]
     },
     "execution_count": 67,
     "metadata": {},
     "output_type": "execute_result"
    }
   ],
   "source": [
    "index"
   ]
  },
  {
   "cell_type": "markdown",
   "id": "927307fa-df0f-4e13-83e1-36b3feee18c4",
   "metadata": {},
   "source": [
    "# Count"
   ]
  },
  {
   "cell_type": "code",
   "execution_count": 78,
   "id": "a4cfec37-314d-45b3-82fe-471fcbd3061b",
   "metadata": {},
   "outputs": [
    {
     "data": {
      "text/plain": [
       "2"
      ]
     },
     "execution_count": 78,
     "metadata": {},
     "output_type": "execute_result"
    }
   ],
   "source": [
    "x.count('name')   # Return the number of times x appears in the list."
   ]
  },
  {
   "cell_type": "code",
   "execution_count": 79,
   "id": "4fcd5656-1f3a-4399-863f-94ffd521814c",
   "metadata": {},
   "outputs": [
    {
     "data": {
      "text/plain": [
       "1"
      ]
     },
     "execution_count": 79,
     "metadata": {},
     "output_type": "execute_result"
    }
   ],
   "source": [
    "x.count('baseplus')"
   ]
  },
  {
   "cell_type": "code",
   "execution_count": 83,
   "id": "3dfdc1e6-e9ea-457e-9d0a-b00c27147a01",
   "metadata": {},
   "outputs": [
    {
     "data": {
      "text/plain": [
       "1"
      ]
     },
     "execution_count": 83,
     "metadata": {},
     "output_type": "execute_result"
    }
   ],
   "source": [
    "x.count('green leaves')"
   ]
  },
  {
   "cell_type": "code",
   "execution_count": 84,
   "id": "e66baa32-5a7b-40ec-a6fe-8811af461f1c",
   "metadata": {},
   "outputs": [
    {
     "data": {
      "text/plain": [
       "['name',\n",
       " 'data',\n",
       " 'structures',\n",
       " 'practice',\n",
       " 'baseplus',\n",
       " 'fruits',\n",
       " 'vegetables',\n",
       " 'green leaves',\n",
       " 'name']"
      ]
     },
     "execution_count": 84,
     "metadata": {},
     "output_type": "execute_result"
    }
   ],
   "source": [
    "x"
   ]
  },
  {
   "cell_type": "markdown",
   "id": "c26bd4ed-d0eb-4210-94fb-7fab920e6762",
   "metadata": {},
   "source": [
    "# Sort"
   ]
  },
  {
   "cell_type": "code",
   "execution_count": 85,
   "id": "d1d89cae-ee2b-4131-812c-c36138d22241",
   "metadata": {},
   "outputs": [
    {
     "data": {
      "text/plain": [
       "[5, 9, 32, 45, 99, 2, 1]"
      ]
     },
     "execution_count": 85,
     "metadata": {},
     "output_type": "execute_result"
    }
   ],
   "source": [
    "numbers=[5,9,32,45,99,2,1]\n",
    "numbers"
   ]
  },
  {
   "cell_type": "code",
   "execution_count": 86,
   "id": "066ab1e3-ed11-4e31-84ed-50fb50d96f1c",
   "metadata": {},
   "outputs": [],
   "source": [
    "numbers.sort()"
   ]
  },
  {
   "cell_type": "code",
   "execution_count": 87,
   "id": "3bf6751c-9c8c-4eed-aa37-265545632893",
   "metadata": {},
   "outputs": [
    {
     "data": {
      "text/plain": [
       "[1, 2, 5, 9, 32, 45, 99]"
      ]
     },
     "execution_count": 87,
     "metadata": {},
     "output_type": "execute_result"
    }
   ],
   "source": [
    "numbers"
   ]
  },
  {
   "cell_type": "markdown",
   "id": "f057f23e-ce7d-4d29-9491-9e73a632d3b0",
   "metadata": {},
   "source": [
    "# Reverse"
   ]
  },
  {
   "cell_type": "code",
   "execution_count": 100,
   "id": "848fd5a8-fc27-4fb9-8b4e-1f30f397ffe1",
   "metadata": {},
   "outputs": [],
   "source": [
    "string=['mahesh','kannemadugu','machine']"
   ]
  },
  {
   "cell_type": "code",
   "execution_count": 101,
   "id": "55c6c97b-6dea-4b61-b243-cc7fe3ad0d7e",
   "metadata": {},
   "outputs": [
    {
     "data": {
      "text/plain": [
       "['mahesh', 'kannemadugu', 'machine']"
      ]
     },
     "execution_count": 101,
     "metadata": {},
     "output_type": "execute_result"
    }
   ],
   "source": [
    "string"
   ]
  },
  {
   "cell_type": "code",
   "execution_count": 91,
   "id": "73c74e85-7d9e-40a3-ba51-1c85bf55c944",
   "metadata": {},
   "outputs": [],
   "source": [
    "string.reverse()"
   ]
  },
  {
   "cell_type": "code",
   "execution_count": 92,
   "id": "fceae0a9-9e20-4923-88b1-e746b79c4054",
   "metadata": {},
   "outputs": [
    {
     "data": {
      "text/plain": [
       "['machinelearning', 'kannemadugu', 'mahesh']"
      ]
     },
     "execution_count": 92,
     "metadata": {},
     "output_type": "execute_result"
    }
   ],
   "source": [
    "string"
   ]
  },
  {
   "cell_type": "code",
   "execution_count": 96,
   "id": "6e1b9d72-3b94-4d94-b8f7-9779e0a78727",
   "metadata": {},
   "outputs": [],
   "source": [
    "string.reverse()"
   ]
  },
  {
   "cell_type": "code",
   "execution_count": 97,
   "id": "781c6b82-1c44-4654-b2e1-b5511b1ed697",
   "metadata": {},
   "outputs": [
    {
     "data": {
      "text/plain": [
       "['machinelearning', 'kannemadugu', 'mahesh']"
      ]
     },
     "execution_count": 97,
     "metadata": {},
     "output_type": "execute_result"
    }
   ],
   "source": [
    "string"
   ]
  },
  {
   "cell_type": "markdown",
   "id": "b076fa46-d762-4270-b978-a67fb46dba65",
   "metadata": {},
   "source": [
    "# Copy"
   ]
  },
  {
   "cell_type": "code",
   "execution_count": 102,
   "id": "2ac78d56-e181-4203-b2a0-b5c22636bf01",
   "metadata": {},
   "outputs": [],
   "source": [
    "element=string.copy()  #Return a shallow copy of the list. "
   ]
  },
  {
   "cell_type": "code",
   "execution_count": 103,
   "id": "f89b14af-ef66-48b1-86e4-b508a8bd65b0",
   "metadata": {},
   "outputs": [
    {
     "data": {
      "text/plain": [
       "['mahesh', 'kannemadugu', 'machine']"
      ]
     },
     "execution_count": 103,
     "metadata": {},
     "output_type": "execute_result"
    }
   ],
   "source": [
    "element"
   ]
  },
  {
   "cell_type": "code",
   "execution_count": null,
   "id": "3208413b-b4c2-469e-b32c-d228af698199",
   "metadata": {},
   "outputs": [],
   "source": []
  }
 ],
 "metadata": {
  "kernelspec": {
   "display_name": "Python 3 (ipykernel)",
   "language": "python",
   "name": "python3"
  },
  "language_info": {
   "codemirror_mode": {
    "name": "ipython",
    "version": 3
   },
   "file_extension": ".py",
   "mimetype": "text/x-python",
   "name": "python",
   "nbconvert_exporter": "python",
   "pygments_lexer": "ipython3",
   "version": "3.12.7"
  }
 },
 "nbformat": 4,
 "nbformat_minor": 5
}
