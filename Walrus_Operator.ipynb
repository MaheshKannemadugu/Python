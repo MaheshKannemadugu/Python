{
 "cells": [
  {
   "cell_type": "markdown",
   "id": "c624eaa6-4a63-4c6a-95dd-a2bc61242631",
   "metadata": {},
   "source": [
    "# Walrus Operator allows you to assign a value to a variable within an expression. This can be useful when you need to use a value multiple times in a loop, but don’t want to repeat the calculation.\n",
    "# Walrus Operator is represented by the `:=` syntax and can be used in a variety of contexts including while loops and if statements.\n",
    "# Note: Python versions before 3.8 doesn’t support Walrus Operator."
   ]
  },
  {
   "cell_type": "code",
   "execution_count": null,
   "id": "265264b2-f3dc-4030-b7bc-02e6f69bce6c",
   "metadata": {},
   "outputs": [],
   "source": [
    "names=['a','b','c','d']\n",
    "if(name :=input(\"Enter\")) in names:\n",
    "    print(f\"This {name}\")\n",
    "else    "
   ]
  }
 ],
 "metadata": {
  "kernelspec": {
   "display_name": "Python 3 (ipykernel)",
   "language": "python",
   "name": "python3"
  },
  "language_info": {
   "codemirror_mode": {
    "name": "ipython",
    "version": 3
   },
   "file_extension": ".py",
   "mimetype": "text/x-python",
   "name": "python",
   "nbconvert_exporter": "python",
   "pygments_lexer": "ipython3",
   "version": "3.12.7"
  }
 },
 "nbformat": 4,
 "nbformat_minor": 5
}
